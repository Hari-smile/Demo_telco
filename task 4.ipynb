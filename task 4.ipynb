{
 "cells": [
  {
   "cell_type": "code",
   "execution_count": 1,
   "id": "35cb3334",
   "metadata": {},
   "outputs": [],
   "source": [
    "import numpy as np\n",
    "import pandas as pd\n",
    "import matplotlib.pyplot as plt\n",
    "import seaborn as sns\n",
    "%matplotlib inline\n",
    "import warnings\n",
    "warnings.filterwarnings('ignore')"
   ]
  },
  {
   "cell_type": "code",
   "execution_count": 2,
   "id": "40484dc8",
   "metadata": {},
   "outputs": [],
   "source": [
    "data=pd.read_csv(\"telcom_data.csv\")"
   ]
  },
  {
   "cell_type": "markdown",
   "id": "33640ae4",
   "metadata": {},
   "source": [
    "# Task 4.1 "
   ]
  },
  {
   "cell_type": "markdown",
   "id": "c1801c9b",
   "metadata": {},
   "source": [
    "###  engagement score to each user. Consider the engagement score as the Euclidean distance between the user data point & the less engaged cluster (use the first clustering for this) (Euclidean Distance)"
   ]
  },
  {
   "cell_type": "markdown",
   "id": "ba9ede6a",
   "metadata": {},
   "source": [
    "# Engagement analysis"
   ]
  },
  {
   "cell_type": "code",
   "execution_count": 3,
   "id": "0cc215c1",
   "metadata": {},
   "outputs": [],
   "source": [
    "session_frequency = data.groupby(by=['MSISDN/Number'])['Dur. (ms)'].transform('count')"
   ]
  },
  {
   "cell_type": "code",
   "execution_count": 4,
   "id": "33d85e72",
   "metadata": {},
   "outputs": [
    {
     "data": {
      "text/plain": [
       "150001"
      ]
     },
     "execution_count": 4,
     "metadata": {},
     "output_type": "execute_result"
    }
   ],
   "source": [
    "len(session_frequency)"
   ]
  },
  {
   "cell_type": "code",
   "execution_count": 5,
   "id": "ee07f3f8",
   "metadata": {},
   "outputs": [
    {
     "data": {
      "text/plain": [
       "150001"
      ]
     },
     "execution_count": 5,
     "metadata": {},
     "output_type": "execute_result"
    }
   ],
   "source": [
    "# Calculate session duration by subtracting \"End ms\" from \"Start ms\"\n",
    "Session_Duration = data['Dur. (ms)']\n",
    "len(Session_Duration)"
   ]
  },
  {
   "cell_type": "code",
   "execution_count": 6,
   "id": "5ba0e98b",
   "metadata": {},
   "outputs": [
    {
     "data": {
      "text/plain": [
       "150001"
      ]
     },
     "execution_count": 6,
     "metadata": {},
     "output_type": "execute_result"
    }
   ],
   "source": [
    "total_traffic = data['Total DL (Bytes)'] + data['Total UL (Bytes)']\n",
    "len(total_traffic)"
   ]
  },
  {
   "cell_type": "code",
   "execution_count": 7,
   "id": "345734a0",
   "metadata": {},
   "outputs": [],
   "source": [
    "data['Session Frequency'] = session_frequency\n",
    "data['Session Duration'] = Session_Duration\n",
    "data['Total Traffic'] = total_traffic"
   ]
  },
  {
   "cell_type": "code",
   "execution_count": 8,
   "id": "56fbb565",
   "metadata": {},
   "outputs": [
    {
     "data": {
      "text/html": [
       "<div>\n",
       "<style scoped>\n",
       "    .dataframe tbody tr th:only-of-type {\n",
       "        vertical-align: middle;\n",
       "    }\n",
       "\n",
       "    .dataframe tbody tr th {\n",
       "        vertical-align: top;\n",
       "    }\n",
       "\n",
       "    .dataframe thead th {\n",
       "        text-align: right;\n",
       "    }\n",
       "</style>\n",
       "<table border=\"1\" class=\"dataframe\">\n",
       "  <thead>\n",
       "    <tr style=\"text-align: right;\">\n",
       "      <th></th>\n",
       "      <th>Bearer Id</th>\n",
       "      <th>Start</th>\n",
       "      <th>Start ms</th>\n",
       "      <th>End</th>\n",
       "      <th>End ms</th>\n",
       "      <th>Dur. (ms)</th>\n",
       "      <th>IMSI</th>\n",
       "      <th>MSISDN/Number</th>\n",
       "      <th>IMEI</th>\n",
       "      <th>Last Location Name</th>\n",
       "      <th>...</th>\n",
       "      <th>Netflix UL (Bytes)</th>\n",
       "      <th>Gaming DL (Bytes)</th>\n",
       "      <th>Gaming UL (Bytes)</th>\n",
       "      <th>Other DL (Bytes)</th>\n",
       "      <th>Other UL (Bytes)</th>\n",
       "      <th>Total UL (Bytes)</th>\n",
       "      <th>Total DL (Bytes)</th>\n",
       "      <th>Session Frequency</th>\n",
       "      <th>Session Duration</th>\n",
       "      <th>Total Traffic</th>\n",
       "    </tr>\n",
       "  </thead>\n",
       "  <tbody>\n",
       "    <tr>\n",
       "      <th>0</th>\n",
       "      <td>1.311450e+19</td>\n",
       "      <td>4/4/2019 12:01</td>\n",
       "      <td>770.0</td>\n",
       "      <td>4/25/2019 14:35</td>\n",
       "      <td>662.0</td>\n",
       "      <td>1823652.0</td>\n",
       "      <td>2.082010e+14</td>\n",
       "      <td>3.366496e+10</td>\n",
       "      <td>3.552120e+13</td>\n",
       "      <td>9.16457E+15</td>\n",
       "      <td>...</td>\n",
       "      <td>9656251.00</td>\n",
       "      <td>278082303.0</td>\n",
       "      <td>1.434415e+07</td>\n",
       "      <td>171744450.0</td>\n",
       "      <td>8.814393e+06</td>\n",
       "      <td>36749741.0</td>\n",
       "      <td>308879636.0</td>\n",
       "      <td>2.0</td>\n",
       "      <td>1823652.0</td>\n",
       "      <td>345629377.0</td>\n",
       "    </tr>\n",
       "    <tr>\n",
       "      <th>1</th>\n",
       "      <td>1.311450e+19</td>\n",
       "      <td>4/9/2019 13:04</td>\n",
       "      <td>235.0</td>\n",
       "      <td>4/25/2019 8:15</td>\n",
       "      <td>606.0</td>\n",
       "      <td>1365104.0</td>\n",
       "      <td>2.082020e+14</td>\n",
       "      <td>3.368185e+10</td>\n",
       "      <td>3.579400e+13</td>\n",
       "      <td>L77566A</td>\n",
       "      <td>...</td>\n",
       "      <td>17227132.00</td>\n",
       "      <td>608750074.0</td>\n",
       "      <td>1.170709e+06</td>\n",
       "      <td>526904238.0</td>\n",
       "      <td>1.505514e+07</td>\n",
       "      <td>53800391.0</td>\n",
       "      <td>653384965.0</td>\n",
       "      <td>2.0</td>\n",
       "      <td>1365104.0</td>\n",
       "      <td>707185356.0</td>\n",
       "    </tr>\n",
       "    <tr>\n",
       "      <th>2</th>\n",
       "      <td>1.311450e+19</td>\n",
       "      <td>4/9/2019 17:42</td>\n",
       "      <td>1.0</td>\n",
       "      <td>4/25/2019 11:58</td>\n",
       "      <td>652.0</td>\n",
       "      <td>1361762.0</td>\n",
       "      <td>2.082000e+14</td>\n",
       "      <td>3.376063e+10</td>\n",
       "      <td>3.528150e+13</td>\n",
       "      <td>D42335A</td>\n",
       "      <td>...</td>\n",
       "      <td>6163408.00</td>\n",
       "      <td>229584621.0</td>\n",
       "      <td>3.956300e+05</td>\n",
       "      <td>410692588.0</td>\n",
       "      <td>4.215763e+06</td>\n",
       "      <td>27883638.0</td>\n",
       "      <td>279807335.0</td>\n",
       "      <td>1.0</td>\n",
       "      <td>1361762.0</td>\n",
       "      <td>307690973.0</td>\n",
       "    </tr>\n",
       "    <tr>\n",
       "      <th>3</th>\n",
       "      <td>1.311450e+19</td>\n",
       "      <td>4/10/2019 0:31</td>\n",
       "      <td>486.0</td>\n",
       "      <td>4/25/2019 7:36</td>\n",
       "      <td>171.0</td>\n",
       "      <td>1321509.0</td>\n",
       "      <td>2.082010e+14</td>\n",
       "      <td>3.375034e+10</td>\n",
       "      <td>3.535660e+13</td>\n",
       "      <td>T21824A</td>\n",
       "      <td>...</td>\n",
       "      <td>1097942.00</td>\n",
       "      <td>799538153.0</td>\n",
       "      <td>1.084972e+07</td>\n",
       "      <td>749039933.0</td>\n",
       "      <td>1.279728e+07</td>\n",
       "      <td>43324218.0</td>\n",
       "      <td>846028530.0</td>\n",
       "      <td>1.0</td>\n",
       "      <td>1321509.0</td>\n",
       "      <td>889352748.0</td>\n",
       "    </tr>\n",
       "    <tr>\n",
       "      <th>4</th>\n",
       "      <td>1.311450e+19</td>\n",
       "      <td>4/12/2019 20:10</td>\n",
       "      <td>565.0</td>\n",
       "      <td>4/25/2019 10:40</td>\n",
       "      <td>954.0</td>\n",
       "      <td>1089009.0</td>\n",
       "      <td>2.082010e+14</td>\n",
       "      <td>3.369980e+10</td>\n",
       "      <td>3.540700e+13</td>\n",
       "      <td>D88865A</td>\n",
       "      <td>...</td>\n",
       "      <td>415218.00</td>\n",
       "      <td>527707248.0</td>\n",
       "      <td>3.529801e+06</td>\n",
       "      <td>550709500.0</td>\n",
       "      <td>1.391032e+07</td>\n",
       "      <td>38542814.0</td>\n",
       "      <td>569138589.0</td>\n",
       "      <td>1.0</td>\n",
       "      <td>1089009.0</td>\n",
       "      <td>607681403.0</td>\n",
       "    </tr>\n",
       "    <tr>\n",
       "      <th>...</th>\n",
       "      <td>...</td>\n",
       "      <td>...</td>\n",
       "      <td>...</td>\n",
       "      <td>...</td>\n",
       "      <td>...</td>\n",
       "      <td>...</td>\n",
       "      <td>...</td>\n",
       "      <td>...</td>\n",
       "      <td>...</td>\n",
       "      <td>...</td>\n",
       "      <td>...</td>\n",
       "      <td>...</td>\n",
       "      <td>...</td>\n",
       "      <td>...</td>\n",
       "      <td>...</td>\n",
       "      <td>...</td>\n",
       "      <td>...</td>\n",
       "      <td>...</td>\n",
       "      <td>...</td>\n",
       "      <td>...</td>\n",
       "      <td>...</td>\n",
       "    </tr>\n",
       "    <tr>\n",
       "      <th>149996</th>\n",
       "      <td>7.277830e+18</td>\n",
       "      <td>4/29/2019 7:28</td>\n",
       "      <td>451.0</td>\n",
       "      <td>4/30/2019 6:02</td>\n",
       "      <td>214.0</td>\n",
       "      <td>81230.0</td>\n",
       "      <td>2.082020e+14</td>\n",
       "      <td>3.365069e+10</td>\n",
       "      <td>3.548310e+13</td>\n",
       "      <td>D20434A</td>\n",
       "      <td>...</td>\n",
       "      <td>19678161.00</td>\n",
       "      <td>526609673.0</td>\n",
       "      <td>9.197207e+06</td>\n",
       "      <td>3264510.0</td>\n",
       "      <td>1.348742e+07</td>\n",
       "      <td>57628851.0</td>\n",
       "      <td>574175259.0</td>\n",
       "      <td>1.0</td>\n",
       "      <td>81230.0</td>\n",
       "      <td>631804110.0</td>\n",
       "    </tr>\n",
       "    <tr>\n",
       "      <th>149997</th>\n",
       "      <td>7.349880e+18</td>\n",
       "      <td>4/29/2019 7:28</td>\n",
       "      <td>483.0</td>\n",
       "      <td>4/30/2019 10:41</td>\n",
       "      <td>187.0</td>\n",
       "      <td>97970.0</td>\n",
       "      <td>2.082020e+14</td>\n",
       "      <td>3.366345e+10</td>\n",
       "      <td>3.566050e+13</td>\n",
       "      <td>D10223C</td>\n",
       "      <td>...</td>\n",
       "      <td>21293148.00</td>\n",
       "      <td>626893062.0</td>\n",
       "      <td>4.735033e+06</td>\n",
       "      <td>712180387.0</td>\n",
       "      <td>2.457758e+06</td>\n",
       "      <td>39135081.0</td>\n",
       "      <td>666648844.0</td>\n",
       "      <td>2.0</td>\n",
       "      <td>97970.0</td>\n",
       "      <td>705783925.0</td>\n",
       "    </tr>\n",
       "    <tr>\n",
       "      <th>149998</th>\n",
       "      <td>1.311450e+19</td>\n",
       "      <td>4/29/2019 7:28</td>\n",
       "      <td>283.0</td>\n",
       "      <td>4/30/2019 10:46</td>\n",
       "      <td>810.0</td>\n",
       "      <td>98249.0</td>\n",
       "      <td>2.082020e+14</td>\n",
       "      <td>3.362189e+10</td>\n",
       "      <td>3.572120e+13</td>\n",
       "      <td>T51102A</td>\n",
       "      <td>...</td>\n",
       "      <td>5065760.00</td>\n",
       "      <td>553539484.0</td>\n",
       "      <td>1.339432e+07</td>\n",
       "      <td>121100856.0</td>\n",
       "      <td>1.131473e+07</td>\n",
       "      <td>34912224.0</td>\n",
       "      <td>592786405.0</td>\n",
       "      <td>1.0</td>\n",
       "      <td>98249.0</td>\n",
       "      <td>627698629.0</td>\n",
       "    </tr>\n",
       "    <tr>\n",
       "      <th>149999</th>\n",
       "      <td>1.311450e+19</td>\n",
       "      <td>4/29/2019 7:28</td>\n",
       "      <td>696.0</td>\n",
       "      <td>4/30/2019 10:40</td>\n",
       "      <td>327.0</td>\n",
       "      <td>97910.0</td>\n",
       "      <td>2.082020e+14</td>\n",
       "      <td>3.361962e+10</td>\n",
       "      <td>8.618620e+13</td>\n",
       "      <td>L88342B</td>\n",
       "      <td>...</td>\n",
       "      <td>13172589.00</td>\n",
       "      <td>352536971.0</td>\n",
       "      <td>2.529475e+06</td>\n",
       "      <td>814713113.0</td>\n",
       "      <td>1.406930e+06</td>\n",
       "      <td>29626096.0</td>\n",
       "      <td>371895920.0</td>\n",
       "      <td>1.0</td>\n",
       "      <td>97910.0</td>\n",
       "      <td>401522016.0</td>\n",
       "    </tr>\n",
       "    <tr>\n",
       "      <th>150000</th>\n",
       "      <td>NaN</td>\n",
       "      <td>NaN</td>\n",
       "      <td>NaN</td>\n",
       "      <td>NaN</td>\n",
       "      <td>NaN</td>\n",
       "      <td>NaN</td>\n",
       "      <td>NaN</td>\n",
       "      <td>NaN</td>\n",
       "      <td>NaN</td>\n",
       "      <td>NaN</td>\n",
       "      <td>...</td>\n",
       "      <td>11001754.82</td>\n",
       "      <td>422044702.6</td>\n",
       "      <td>8.288398e+06</td>\n",
       "      <td>421100544.2</td>\n",
       "      <td>8.264799e+06</td>\n",
       "      <td>NaN</td>\n",
       "      <td>NaN</td>\n",
       "      <td>NaN</td>\n",
       "      <td>NaN</td>\n",
       "      <td>NaN</td>\n",
       "    </tr>\n",
       "  </tbody>\n",
       "</table>\n",
       "<p>150001 rows × 58 columns</p>\n",
       "</div>"
      ],
      "text/plain": [
       "           Bearer Id            Start  Start ms              End  End ms  \\\n",
       "0       1.311450e+19   4/4/2019 12:01     770.0  4/25/2019 14:35   662.0   \n",
       "1       1.311450e+19   4/9/2019 13:04     235.0   4/25/2019 8:15   606.0   \n",
       "2       1.311450e+19   4/9/2019 17:42       1.0  4/25/2019 11:58   652.0   \n",
       "3       1.311450e+19   4/10/2019 0:31     486.0   4/25/2019 7:36   171.0   \n",
       "4       1.311450e+19  4/12/2019 20:10     565.0  4/25/2019 10:40   954.0   \n",
       "...              ...              ...       ...              ...     ...   \n",
       "149996  7.277830e+18   4/29/2019 7:28     451.0   4/30/2019 6:02   214.0   \n",
       "149997  7.349880e+18   4/29/2019 7:28     483.0  4/30/2019 10:41   187.0   \n",
       "149998  1.311450e+19   4/29/2019 7:28     283.0  4/30/2019 10:46   810.0   \n",
       "149999  1.311450e+19   4/29/2019 7:28     696.0  4/30/2019 10:40   327.0   \n",
       "150000           NaN              NaN       NaN              NaN     NaN   \n",
       "\n",
       "        Dur. (ms)          IMSI  MSISDN/Number          IMEI  \\\n",
       "0       1823652.0  2.082010e+14   3.366496e+10  3.552120e+13   \n",
       "1       1365104.0  2.082020e+14   3.368185e+10  3.579400e+13   \n",
       "2       1361762.0  2.082000e+14   3.376063e+10  3.528150e+13   \n",
       "3       1321509.0  2.082010e+14   3.375034e+10  3.535660e+13   \n",
       "4       1089009.0  2.082010e+14   3.369980e+10  3.540700e+13   \n",
       "...           ...           ...            ...           ...   \n",
       "149996    81230.0  2.082020e+14   3.365069e+10  3.548310e+13   \n",
       "149997    97970.0  2.082020e+14   3.366345e+10  3.566050e+13   \n",
       "149998    98249.0  2.082020e+14   3.362189e+10  3.572120e+13   \n",
       "149999    97910.0  2.082020e+14   3.361962e+10  8.618620e+13   \n",
       "150000        NaN           NaN            NaN           NaN   \n",
       "\n",
       "       Last Location Name  ...  Netflix UL (Bytes)  Gaming DL (Bytes)  \\\n",
       "0             9.16457E+15  ...          9656251.00        278082303.0   \n",
       "1                 L77566A  ...         17227132.00        608750074.0   \n",
       "2                 D42335A  ...          6163408.00        229584621.0   \n",
       "3                 T21824A  ...          1097942.00        799538153.0   \n",
       "4                 D88865A  ...           415218.00        527707248.0   \n",
       "...                   ...  ...                 ...                ...   \n",
       "149996            D20434A  ...         19678161.00        526609673.0   \n",
       "149997            D10223C  ...         21293148.00        626893062.0   \n",
       "149998            T51102A  ...          5065760.00        553539484.0   \n",
       "149999            L88342B  ...         13172589.00        352536971.0   \n",
       "150000                NaN  ...         11001754.82        422044702.6   \n",
       "\n",
       "        Gaming UL (Bytes)  Other DL (Bytes)  Other UL (Bytes)  \\\n",
       "0            1.434415e+07       171744450.0      8.814393e+06   \n",
       "1            1.170709e+06       526904238.0      1.505514e+07   \n",
       "2            3.956300e+05       410692588.0      4.215763e+06   \n",
       "3            1.084972e+07       749039933.0      1.279728e+07   \n",
       "4            3.529801e+06       550709500.0      1.391032e+07   \n",
       "...                   ...               ...               ...   \n",
       "149996       9.197207e+06         3264510.0      1.348742e+07   \n",
       "149997       4.735033e+06       712180387.0      2.457758e+06   \n",
       "149998       1.339432e+07       121100856.0      1.131473e+07   \n",
       "149999       2.529475e+06       814713113.0      1.406930e+06   \n",
       "150000       8.288398e+06       421100544.2      8.264799e+06   \n",
       "\n",
       "        Total UL (Bytes)  Total DL (Bytes)  Session Frequency  \\\n",
       "0             36749741.0       308879636.0                2.0   \n",
       "1             53800391.0       653384965.0                2.0   \n",
       "2             27883638.0       279807335.0                1.0   \n",
       "3             43324218.0       846028530.0                1.0   \n",
       "4             38542814.0       569138589.0                1.0   \n",
       "...                  ...               ...                ...   \n",
       "149996        57628851.0       574175259.0                1.0   \n",
       "149997        39135081.0       666648844.0                2.0   \n",
       "149998        34912224.0       592786405.0                1.0   \n",
       "149999        29626096.0       371895920.0                1.0   \n",
       "150000               NaN               NaN                NaN   \n",
       "\n",
       "        Session Duration  Total Traffic  \n",
       "0              1823652.0    345629377.0  \n",
       "1              1365104.0    707185356.0  \n",
       "2              1361762.0    307690973.0  \n",
       "3              1321509.0    889352748.0  \n",
       "4              1089009.0    607681403.0  \n",
       "...                  ...            ...  \n",
       "149996           81230.0    631804110.0  \n",
       "149997           97970.0    705783925.0  \n",
       "149998           98249.0    627698629.0  \n",
       "149999           97910.0    401522016.0  \n",
       "150000               NaN            NaN  \n",
       "\n",
       "[150001 rows x 58 columns]"
      ]
     },
     "execution_count": 8,
     "metadata": {},
     "output_type": "execute_result"
    }
   ],
   "source": [
    "data"
   ]
  },
  {
   "cell_type": "code",
   "execution_count": 9,
   "id": "d95f77dc",
   "metadata": {},
   "outputs": [
    {
     "data": {
      "text/plain": [
       "Index(['Bearer Id', 'Start', 'Start ms', 'End', 'End ms', 'Dur. (ms)', 'IMSI',\n",
       "       'MSISDN/Number', 'IMEI', 'Last Location Name', 'Avg RTT DL (ms)',\n",
       "       'Avg RTT UL (ms)', 'Avg Bearer TP DL (kbps)', 'Avg Bearer TP UL (kbps)',\n",
       "       'TCP DL Retrans. Vol (Bytes)', 'TCP UL Retrans. Vol (Bytes)',\n",
       "       'DL TP < 50 Kbps (%)', '50 Kbps < DL TP < 250 Kbps (%)',\n",
       "       '250 Kbps < DL TP < 1 Mbps (%)', 'DL TP > 1 Mbps (%)',\n",
       "       'UL TP < 10 Kbps (%)', '10 Kbps < UL TP < 50 Kbps (%)',\n",
       "       '50 Kbps < UL TP < 300 Kbps (%)', 'UL TP > 300 Kbps (%)',\n",
       "       'HTTP DL (Bytes)', 'HTTP UL (Bytes)', 'Activity Duration DL (ms)',\n",
       "       'Activity Duration UL (ms)', 'Dur. (ms).1', 'Handset Manufacturer',\n",
       "       'Handset Type', 'Nb of sec with 125000B < Vol DL',\n",
       "       'Nb of sec with 1250B < Vol UL < 6250B',\n",
       "       'Nb of sec with 31250B < Vol DL < 125000B',\n",
       "       'Nb of sec with 37500B < Vol UL',\n",
       "       'Nb of sec with 6250B < Vol DL < 31250B',\n",
       "       'Nb of sec with 6250B < Vol UL < 37500B',\n",
       "       'Nb of sec with Vol DL < 6250B', 'Nb of sec with Vol UL < 1250B',\n",
       "       'Social Media DL (Bytes)', 'Social Media UL (Bytes)',\n",
       "       'Google DL (Bytes)', 'Google UL (Bytes)', 'Email DL (Bytes)',\n",
       "       'Email UL (Bytes)', 'Youtube DL (Bytes)', 'Youtube UL (Bytes)',\n",
       "       'Netflix DL (Bytes)', 'Netflix UL (Bytes)', 'Gaming DL (Bytes)',\n",
       "       'Gaming UL (Bytes)', 'Other DL (Bytes)', 'Other UL (Bytes)',\n",
       "       'Total UL (Bytes)', 'Total DL (Bytes)', 'Session Frequency',\n",
       "       'Session Duration', 'Total Traffic'],\n",
       "      dtype='object')"
      ]
     },
     "execution_count": 9,
     "metadata": {},
     "output_type": "execute_result"
    }
   ],
   "source": [
    "data.columns"
   ]
  },
  {
   "cell_type": "code",
   "execution_count": 10,
   "id": "5feae414",
   "metadata": {},
   "outputs": [],
   "source": [
    "# Aggregate the metrics per customer id (MSISDN) and report the top 10 customers per engagement metric\n",
    "aggregated_data = data.groupby('MSISDN/Number').agg({\n",
    "    'Session Frequency': 'sum',\n",
    "    'Session Duration': 'sum',\n",
    "    'Total Traffic': 'sum',})"
   ]
  },
  {
   "cell_type": "code",
   "execution_count": 11,
   "id": "36e95cf9",
   "metadata": {},
   "outputs": [
    {
     "data": {
      "text/html": [
       "<div>\n",
       "<style scoped>\n",
       "    .dataframe tbody tr th:only-of-type {\n",
       "        vertical-align: middle;\n",
       "    }\n",
       "\n",
       "    .dataframe tbody tr th {\n",
       "        vertical-align: top;\n",
       "    }\n",
       "\n",
       "    .dataframe thead th {\n",
       "        text-align: right;\n",
       "    }\n",
       "</style>\n",
       "<table border=\"1\" class=\"dataframe\">\n",
       "  <thead>\n",
       "    <tr style=\"text-align: right;\">\n",
       "      <th></th>\n",
       "      <th>Session Frequency</th>\n",
       "      <th>Session Duration</th>\n",
       "      <th>Total Traffic</th>\n",
       "    </tr>\n",
       "    <tr>\n",
       "      <th>MSISDN/Number</th>\n",
       "      <th></th>\n",
       "      <th></th>\n",
       "      <th></th>\n",
       "    </tr>\n",
       "  </thead>\n",
       "  <tbody>\n",
       "    <tr>\n",
       "      <th>3.360100e+10</th>\n",
       "      <td>1.0</td>\n",
       "      <td>116720.0</td>\n",
       "      <td>8.786906e+08</td>\n",
       "    </tr>\n",
       "    <tr>\n",
       "      <th>3.360100e+10</th>\n",
       "      <td>1.0</td>\n",
       "      <td>181230.0</td>\n",
       "      <td>1.568596e+08</td>\n",
       "    </tr>\n",
       "    <tr>\n",
       "      <th>3.360100e+10</th>\n",
       "      <td>1.0</td>\n",
       "      <td>134969.0</td>\n",
       "      <td>5.959665e+08</td>\n",
       "    </tr>\n",
       "    <tr>\n",
       "      <th>3.360101e+10</th>\n",
       "      <td>1.0</td>\n",
       "      <td>49878.0</td>\n",
       "      <td>4.223207e+08</td>\n",
       "    </tr>\n",
       "    <tr>\n",
       "      <th>3.360101e+10</th>\n",
       "      <td>4.0</td>\n",
       "      <td>37104.0</td>\n",
       "      <td>1.457411e+09</td>\n",
       "    </tr>\n",
       "    <tr>\n",
       "      <th>...</th>\n",
       "      <td>...</td>\n",
       "      <td>...</td>\n",
       "      <td>...</td>\n",
       "    </tr>\n",
       "    <tr>\n",
       "      <th>3.379000e+10</th>\n",
       "      <td>1.0</td>\n",
       "      <td>8810.0</td>\n",
       "      <td>7.146416e+08</td>\n",
       "    </tr>\n",
       "    <tr>\n",
       "      <th>3.379000e+10</th>\n",
       "      <td>1.0</td>\n",
       "      <td>140988.0</td>\n",
       "      <td>4.803073e+08</td>\n",
       "    </tr>\n",
       "    <tr>\n",
       "      <th>3.197020e+12</th>\n",
       "      <td>1.0</td>\n",
       "      <td>877385.0</td>\n",
       "      <td>2.321240e+08</td>\n",
       "    </tr>\n",
       "    <tr>\n",
       "      <th>3.370000e+14</th>\n",
       "      <td>1.0</td>\n",
       "      <td>253030.0</td>\n",
       "      <td>5.962878e+08</td>\n",
       "    </tr>\n",
       "    <tr>\n",
       "      <th>8.823970e+14</th>\n",
       "      <td>1.0</td>\n",
       "      <td>869844.0</td>\n",
       "      <td>1.391536e+08</td>\n",
       "    </tr>\n",
       "  </tbody>\n",
       "</table>\n",
       "<p>106856 rows × 3 columns</p>\n",
       "</div>"
      ],
      "text/plain": [
       "               Session Frequency  Session Duration  Total Traffic\n",
       "MSISDN/Number                                                    \n",
       "3.360100e+10                 1.0          116720.0   8.786906e+08\n",
       "3.360100e+10                 1.0          181230.0   1.568596e+08\n",
       "3.360100e+10                 1.0          134969.0   5.959665e+08\n",
       "3.360101e+10                 1.0           49878.0   4.223207e+08\n",
       "3.360101e+10                 4.0           37104.0   1.457411e+09\n",
       "...                          ...               ...            ...\n",
       "3.379000e+10                 1.0            8810.0   7.146416e+08\n",
       "3.379000e+10                 1.0          140988.0   4.803073e+08\n",
       "3.197020e+12                 1.0          877385.0   2.321240e+08\n",
       "3.370000e+14                 1.0          253030.0   5.962878e+08\n",
       "8.823970e+14                 1.0          869844.0   1.391536e+08\n",
       "\n",
       "[106856 rows x 3 columns]"
      ]
     },
     "execution_count": 11,
     "metadata": {},
     "output_type": "execute_result"
    }
   ],
   "source": [
    "aggregated_data"
   ]
  },
  {
   "cell_type": "code",
   "execution_count": 12,
   "id": "b3b19ef8",
   "metadata": {},
   "outputs": [
    {
     "data": {
      "image/png": "[encoded data removed]",
      "text/plain": [
       "<Figure size 500x500 with 1 Axes>"
      ]
     },
     "metadata": {},
     "output_type": "display_data"
    }
   ],
   "source": [
    "fig,ax = plt.subplots(nrows = 1,ncols = 1,figsize = (5,5))\n",
    "\n",
    "colors = ['#7789B2','#7789B2']\n",
    "plt.subplot(1,1,1)\n",
    "sns.heatmap(aggregated_data.describe().T[['mean']],\n",
    "            cmap = 'Greens',\n",
    "            annot = True,\n",
    "            fmt = '.2f',\n",
    "            linecolor = 'black',\n",
    "            linewidths = 0.4,\n",
    "            cbar = False);\n",
    "plt.title('Mean Values');\n",
    "\n",
    "fig.tight_layout(pad = 4)"
   ]
  },
  {
   "cell_type": "markdown",
   "id": "8ad882ff",
   "metadata": {},
   "source": [
    "#### Data Scaling"
   ]
  },
  {
   "cell_type": "code",
   "execution_count": 13,
   "id": "0ed656cf",
   "metadata": {},
   "outputs": [],
   "source": [
    "from sklearn.preprocessing import MinMaxScaler,StandardScaler\n",
    "mms = MinMaxScaler() # Normalization\n",
    "ss = StandardScaler() # Standardization\n",
    "from sklearn.cluster import KMeans\n",
    "kmeans=KMeans()"
   ]
  },
  {
   "cell_type": "code",
   "execution_count": 14,
   "id": "2ca066a6",
   "metadata": {},
   "outputs": [],
   "source": [
    "aggregated_data['Session Frequency']=mms.fit_transform(aggregated_data[['Session Frequency']])\n",
    "aggregated_data['Session Duration']=mms.fit_transform(aggregated_data[['Session Duration']])\n",
    "aggregated_data['Total Traffic']=mms.fit_transform(aggregated_data[['Total Traffic']])\n"
   ]
  },
  {
   "cell_type": "code",
   "execution_count": 15,
   "id": "2563bc11",
   "metadata": {},
   "outputs": [
    {
     "data": {
      "image/png": "[encoded data removed]",
      "text/plain": [
       "<Figure size 2000x500 with 1 Axes>"
      ]
     },
     "metadata": {},
     "output_type": "display_data"
    }
   ],
   "source": [
    "sse = {};\n",
    "kmax = 10\n",
    "fig = plt.subplots(figsize = (20,5))\n",
    "\n",
    "# Elbow Method :\n",
    "for k in range(1, 10):\n",
    "    kmeans = KMeans(n_clusters=k, max_iter=1000).fit(aggregated_data)\n",
    "    sse[k] = kmeans.inertia_ # Inertia: Sum of distances of samples to their closest cluster center\n",
    "sns.lineplot(x = list(sse.keys()), y = list(sse.values()));\n",
    "plt.title('Elbow Method')\n",
    "plt.xlabel(\"k : Number of cluster\")\n",
    "plt.ylabel(\"Sum of Squared Error\")\n",
    "plt.grid()"
   ]
  },
  {
   "cell_type": "code",
   "execution_count": 16,
   "id": "12cee7fc",
   "metadata": {},
   "outputs": [],
   "source": [
    "user_data = aggregated_data[['Session Frequency', 'Session Duration', 'Total Traffic']].values"
   ]
  },
  {
   "cell_type": "code",
   "execution_count": 17,
   "id": "8a001df4",
   "metadata": {},
   "outputs": [],
   "source": [
    "model = KMeans(n_clusters = 2,\n",
    "               max_iter = 1000)"
   ]
  },
  {
   "cell_type": "code",
   "execution_count": 18,
   "id": "639fd90b",
   "metadata": {},
   "outputs": [
    {
     "data": {
      "text/html": [
       "<style>#sk-container-id-1 {color: black;background-color: white;}#sk-container-id-1 pre{padding: 0;}#sk-container-id-1 div.sk-toggleable {background-color: white;}#sk-container-id-1 label.sk-toggleable__label {cursor: pointer;display: block;width: 100%;margin-bottom: 0;padding: 0.3em;box-sizing: border-box;text-align: center;}#sk-container-id-1 label.sk-toggleable__label-arrow:before {content: \"▸\";float: left;margin-right: 0.25em;color: #696969;}#sk-container-id-1 label.sk-toggleable__label-arrow:hover:before {color: black;}#sk-container-id-1 div.sk-estimator:hover label.sk-toggleable__label-arrow:before {color: black;}#sk-container-id-1 div.sk-toggleable__content {max-height: 0;max-width: 0;overflow: hidden;text-align: left;background-color: #f0f8ff;}#sk-container-id-1 div.sk-toggleable__content pre {margin: 0.2em;color: black;border-radius: 0.25em;background-color: #f0f8ff;}#sk-container-id-1 input.sk-toggleable__control:checked~div.sk-toggleable__content {max-height: 200px;max-width: 100%;overflow: auto;}#sk-container-id-1 input.sk-toggleable__control:checked~label.sk-toggleable__label-arrow:before {content: \"▾\";}#sk-container-id-1 div.sk-estimator input.sk-toggleable__control:checked~label.sk-toggleable__label {background-color: #d4ebff;}#sk-container-id-1 div.sk-label input.sk-toggleable__control:checked~label.sk-toggleable__label {background-color: #d4ebff;}#sk-container-id-1 input.sk-hidden--visually {border: 0;clip: rect(1px 1px 1px 1px);clip: rect(1px, 1px, 1px, 1px);height: 1px;margin: -1px;overflow: hidden;padding: 0;position: absolute;width: 1px;}#sk-container-id-1 div.sk-estimator {font-family: monospace;background-color: #f0f8ff;border: 1px dotted black;border-radius: 0.25em;box-sizing: border-box;margin-bottom: 0.5em;}#sk-container-id-1 div.sk-estimator:hover {background-color: #d4ebff;}#sk-container-id-1 div.sk-parallel-item::after {content: \"\";width: 100%;border-bottom: 1px solid gray;flex-grow: 1;}#sk-container-id-1 div.sk-label:hover label.sk-toggleable__label {background-color: #d4ebff;}#sk-container-id-1 div.sk-serial::before {content: \"\";position: absolute;border-left: 1px solid gray;box-sizing: border-box;top: 0;bottom: 0;left: 50%;z-index: 0;}#sk-container-id-1 div.sk-serial {display: flex;flex-direction: column;align-items: center;background-color: white;padding-right: 0.2em;padding-left: 0.2em;position: relative;}#sk-container-id-1 div.sk-item {position: relative;z-index: 1;}#sk-container-id-1 div.sk-parallel {display: flex;align-items: stretch;justify-content: center;background-color: white;position: relative;}#sk-container-id-1 div.sk-item::before, #sk-container-id-1 div.sk-parallel-item::before {content: \"\";position: absolute;border-left: 1px solid gray;box-sizing: border-box;top: 0;bottom: 0;left: 50%;z-index: -1;}#sk-container-id-1 div.sk-parallel-item {display: flex;flex-direction: column;z-index: 1;position: relative;background-color: white;}#sk-container-id-1 div.sk-parallel-item:first-child::after {align-self: flex-end;width: 50%;}#sk-container-id-1 div.sk-parallel-item:last-child::after {align-self: flex-start;width: 50%;}#sk-container-id-1 div.sk-parallel-item:only-child::after {width: 0;}#sk-container-id-1 div.sk-dashed-wrapped {border: 1px dashed gray;margin: 0 0.4em 0.5em 0.4em;box-sizing: border-box;padding-bottom: 0.4em;background-color: white;}#sk-container-id-1 div.sk-label label {font-family: monospace;font-weight: bold;display: inline-block;line-height: 1.2em;}#sk-container-id-1 div.sk-label-container {text-align: center;}#sk-container-id-1 div.sk-container {/* jupyter's `normalize.less` sets `[hidden] { display: none; }` but bootstrap.min.css set `[hidden] { display: none !important; }` so we also need the `!important` here to be able to override the default hidden behavior on the sphinx rendered scikit-learn.org. See: https://github.com/scikit-learn/scikit-learn/issues/21755 */display: inline-block !important;position: relative;}#sk-container-id-1 div.sk-text-repr-fallback {display: none;}</style><div id=\"sk-container-id-1\" class=\"sk-top-container\"><div class=\"sk-text-repr-fallback\"><pre>KMeans(max_iter=1000, n_clusters=2)</pre><b>In a Jupyter environment, please rerun this cell to show the HTML representation or trust the notebook. <br />On GitHub, the HTML representation is unable to render, please try loading this page with nbviewer.org.</b></div><div class=\"sk-container\" hidden><div class=\"sk-item\"><div class=\"sk-estimator sk-toggleable\"><input class=\"sk-toggleable__control sk-hidden--visually\" id=\"sk-estimator-id-1\" type=\"checkbox\" checked><label for=\"sk-estimator-id-1\" class=\"sk-toggleable__label sk-toggleable__label-arrow\">KMeans</label><div class=\"sk-toggleable__content\"><pre>KMeans(max_iter=1000, n_clusters=2)</pre></div></div></div></div></div>"
      ],
      "text/plain": [
       "KMeans(max_iter=1000, n_clusters=2)"
      ]
     },
     "execution_count": 18,
     "metadata": {},
     "output_type": "execute_result"
    }
   ],
   "source": [
    "model.fit(user_data)"
   ]
  },
  {
   "cell_type": "code",
   "execution_count": 19,
   "id": "dad42dc3",
   "metadata": {},
   "outputs": [],
   "source": [
    "# Finding the cluster centroids\n",
    "cluster = model.cluster_centers_"
   ]
  },
  {
   "cell_type": "code",
   "execution_count": 20,
   "id": "9eb866a1",
   "metadata": {},
   "outputs": [
    {
     "data": {
      "text/plain": [
       "array([[0.00149731, 0.00591895, 0.05700648],\n",
       "       [0.02481307, 0.01663128, 0.17671824]])"
      ]
     },
     "execution_count": 20,
     "metadata": {},
     "output_type": "execute_result"
    }
   ],
   "source": [
    "cluster"
   ]
  },
  {
   "cell_type": "code",
   "execution_count": 21,
   "id": "f3070266",
   "metadata": {},
   "outputs": [
    {
     "data": {
      "text/plain": [
       "array([0, 0, 0, ..., 0, 0, 0])"
      ]
     },
     "execution_count": 21,
     "metadata": {},
     "output_type": "execute_result"
    }
   ],
   "source": [
    "labels = model.labels_\n",
    "labels"
   ]
  },
  {
   "cell_type": "code",
   "execution_count": 22,
   "id": "8b47eb21",
   "metadata": {},
   "outputs": [],
   "source": [
    "centroids = np.array(cluster)"
   ]
  },
  {
   "cell_type": "code",
   "execution_count": 23,
   "id": "d849c1c0",
   "metadata": {},
   "outputs": [
    {
     "data": {
      "text/plain": [
       "array([[0.00149731, 0.00591895, 0.05700648],\n",
       "       [0.02481307, 0.01663128, 0.17671824]])"
      ]
     },
     "execution_count": 23,
     "metadata": {},
     "output_type": "execute_result"
    }
   ],
   "source": [
    "centroids"
   ]
  },
  {
   "cell_type": "code",
   "execution_count": 24,
   "id": "7e20e097",
   "metadata": {},
   "outputs": [
    {
     "data": {
      "text/html": [
       "<div>\n",
       "<style scoped>\n",
       "    .dataframe tbody tr th:only-of-type {\n",
       "        vertical-align: middle;\n",
       "    }\n",
       "\n",
       "    .dataframe tbody tr th {\n",
       "        vertical-align: top;\n",
       "    }\n",
       "\n",
       "    .dataframe thead th {\n",
       "        text-align: right;\n",
       "    }\n",
       "</style>\n",
       "<table border=\"1\" class=\"dataframe\">\n",
       "  <thead>\n",
       "    <tr style=\"text-align: right;\">\n",
       "      <th></th>\n",
       "      <th>Session Frequency</th>\n",
       "      <th>Session Duration</th>\n",
       "      <th>Total Traffic</th>\n",
       "      <th>Engagement Score</th>\n",
       "    </tr>\n",
       "    <tr>\n",
       "      <th>MSISDN/Number</th>\n",
       "      <th></th>\n",
       "      <th></th>\n",
       "      <th></th>\n",
       "      <th></th>\n",
       "    </tr>\n",
       "  </thead>\n",
       "  <tbody>\n",
       "    <tr>\n",
       "      <th>3.360100e+10</th>\n",
       "      <td>0.000000</td>\n",
       "      <td>0.005908</td>\n",
       "      <td>0.095931</td>\n",
       "      <td>0.023262</td>\n",
       "    </tr>\n",
       "    <tr>\n",
       "      <th>3.360100e+10</th>\n",
       "      <td>0.000000</td>\n",
       "      <td>0.009387</td>\n",
       "      <td>0.014026</td>\n",
       "      <td>0.025866</td>\n",
       "    </tr>\n",
       "    <tr>\n",
       "      <th>3.360100e+10</th>\n",
       "      <td>0.000000</td>\n",
       "      <td>0.006892</td>\n",
       "      <td>0.063851</td>\n",
       "      <td>0.003462</td>\n",
       "    </tr>\n",
       "    <tr>\n",
       "      <th>3.360101e+10</th>\n",
       "      <td>0.000000</td>\n",
       "      <td>0.002304</td>\n",
       "      <td>0.044148</td>\n",
       "      <td>0.007417</td>\n",
       "    </tr>\n",
       "    <tr>\n",
       "      <th>3.360101e+10</th>\n",
       "      <td>0.009288</td>\n",
       "      <td>0.001615</td>\n",
       "      <td>0.161598</td>\n",
       "      <td>0.064264</td>\n",
       "    </tr>\n",
       "    <tr>\n",
       "      <th>...</th>\n",
       "      <td>...</td>\n",
       "      <td>...</td>\n",
       "      <td>...</td>\n",
       "      <td>...</td>\n",
       "    </tr>\n",
       "    <tr>\n",
       "      <th>3.379000e+10</th>\n",
       "      <td>0.000000</td>\n",
       "      <td>0.000090</td>\n",
       "      <td>0.077317</td>\n",
       "      <td>0.012225</td>\n",
       "    </tr>\n",
       "    <tr>\n",
       "      <th>3.379000e+10</th>\n",
       "      <td>0.000000</td>\n",
       "      <td>0.007217</td>\n",
       "      <td>0.050727</td>\n",
       "      <td>0.003158</td>\n",
       "    </tr>\n",
       "    <tr>\n",
       "      <th>3.197020e+12</th>\n",
       "      <td>0.000000</td>\n",
       "      <td>0.046922</td>\n",
       "      <td>0.022566</td>\n",
       "      <td>0.032340</td>\n",
       "    </tr>\n",
       "    <tr>\n",
       "      <th>3.370000e+14</th>\n",
       "      <td>0.000000</td>\n",
       "      <td>0.013258</td>\n",
       "      <td>0.063887</td>\n",
       "      <td>0.005386</td>\n",
       "    </tr>\n",
       "    <tr>\n",
       "      <th>8.823970e+14</th>\n",
       "      <td>0.000000</td>\n",
       "      <td>0.046515</td>\n",
       "      <td>0.012017</td>\n",
       "      <td>0.036717</td>\n",
       "    </tr>\n",
       "  </tbody>\n",
       "</table>\n",
       "<p>106856 rows × 4 columns</p>\n",
       "</div>"
      ],
      "text/plain": [
       "               Session Frequency  Session Duration  Total Traffic  \\\n",
       "MSISDN/Number                                                       \n",
       "3.360100e+10            0.000000          0.005908       0.095931   \n",
       "3.360100e+10            0.000000          0.009387       0.014026   \n",
       "3.360100e+10            0.000000          0.006892       0.063851   \n",
       "3.360101e+10            0.000000          0.002304       0.044148   \n",
       "3.360101e+10            0.009288          0.001615       0.161598   \n",
       "...                          ...               ...            ...   \n",
       "3.379000e+10            0.000000          0.000090       0.077317   \n",
       "3.379000e+10            0.000000          0.007217       0.050727   \n",
       "3.197020e+12            0.000000          0.046922       0.022566   \n",
       "3.370000e+14            0.000000          0.013258       0.063887   \n",
       "8.823970e+14            0.000000          0.046515       0.012017   \n",
       "\n",
       "               Engagement Score  \n",
       "MSISDN/Number                    \n",
       "3.360100e+10           0.023262  \n",
       "3.360100e+10           0.025866  \n",
       "3.360100e+10           0.003462  \n",
       "3.360101e+10           0.007417  \n",
       "3.360101e+10           0.064264  \n",
       "...                         ...  \n",
       "3.379000e+10           0.012225  \n",
       "3.379000e+10           0.003158  \n",
       "3.197020e+12           0.032340  \n",
       "3.370000e+14           0.005386  \n",
       "8.823970e+14           0.036717  \n",
       "\n",
       "[106856 rows x 4 columns]"
      ]
     },
     "execution_count": 24,
     "metadata": {},
     "output_type": "execute_result"
    }
   ],
   "source": [
    "\n",
    "from sklearn.metrics.pairwise import euclidean_distances\n",
    "\n",
    "\n",
    "\n",
    "\n",
    "\n",
    "distances = euclidean_distances(user_data, centroids)\n",
    "\n",
    "less_engaged_cluster_index = 0\n",
    "\n",
    "engagement_scores = distances[:, less_engaged_cluster_index]\n",
    "\n",
    "mms = MinMaxScaler()\n",
    "engagement_scores = mms.fit_transform(engagement_scores.reshape(-1, 1))\n",
    "\n",
    "aggregated_data['Engagement Score'] = engagement_scores\n",
    "\n",
    "\n",
    "aggregated_data"
   ]
  },
  {
   "cell_type": "markdown",
   "id": "b37684e0",
   "metadata": {},
   "source": [
    "#### Experience score for each user. Consider the experience score as the Euclidean distance between the user data point & the worst experience cluster. "
   ]
  },
  {
   "cell_type": "markdown",
   "id": "dcf7e5fe",
   "metadata": {},
   "source": [
    "#  Experience  analysis"
   ]
  },
  {
   "cell_type": "code",
   "execution_count": 26,
   "id": "296b6780",
   "metadata": {},
   "outputs": [],
   "source": [
    "# Calculate average TCP retransmission\n",
    "avg_tcp_retransmission = data.groupby('MSISDN/Number')[['TCP DL Retrans. Vol (Bytes)', 'TCP UL Retrans. Vol (Bytes)']].mean().mean(axis=1)\n",
    "avg_tcp_retransmission.fillna(avg_tcp_retransmission.mean(), inplace=True)"
   ]
  },
  {
   "cell_type": "code",
   "execution_count": 27,
   "id": "cb7c8489",
   "metadata": {},
   "outputs": [],
   "source": [
    "# Calculate average RTT\n",
    "avg_rtt = data.groupby('MSISDN/Number')[['Avg RTT DL (ms)', 'Avg RTT UL (ms)']].mean().mean(axis=1)\n",
    "avg_rtt.fillna(avg_rtt.mean(), inplace=True)"
   ]
  },
  {
   "cell_type": "code",
   "execution_count": 28,
   "id": "7e93f758",
   "metadata": {},
   "outputs": [],
   "source": [
    "# Calculate average throughput\n",
    "avg_throughput = data.groupby('MSISDN/Number')[['Avg Bearer TP DL (kbps)', 'Avg Bearer TP UL (kbps)']].mean().mean(axis=1)\n",
    "avg_throughput.fillna(avg_throughput.mean(), inplace=True)"
   ]
  },
  {
   "cell_type": "code",
   "execution_count": 29,
   "id": "0a667189",
   "metadata": {},
   "outputs": [],
   "source": [
    "handset_mode = data.groupby('MSISDN/Number')['Handset Type'].agg(lambda x: x.mode().values[0] if len(x.mode()) > 0 else None)\n"
   ]
  },
  {
   "cell_type": "code",
   "execution_count": 30,
   "id": "40eae81d",
   "metadata": {},
   "outputs": [
    {
     "data": {
      "text/html": [
       "<div>\n",
       "<style scoped>\n",
       "    .dataframe tbody tr th:only-of-type {\n",
       "        vertical-align: middle;\n",
       "    }\n",
       "\n",
       "    .dataframe tbody tr th {\n",
       "        vertical-align: top;\n",
       "    }\n",
       "\n",
       "    .dataframe thead th {\n",
       "        text-align: right;\n",
       "    }\n",
       "</style>\n",
       "<table border=\"1\" class=\"dataframe\">\n",
       "  <thead>\n",
       "    <tr style=\"text-align: right;\">\n",
       "      <th></th>\n",
       "      <th>MSISDN/Number</th>\n",
       "      <th>Avg_TCP_Retransmission</th>\n",
       "      <th>Avg_RTT</th>\n",
       "      <th>Handset_Type</th>\n",
       "      <th>Avg_Throughput</th>\n",
       "    </tr>\n",
       "  </thead>\n",
       "  <tbody>\n",
       "    <tr>\n",
       "      <th>0</th>\n",
       "      <td>3.360100e+10</td>\n",
       "      <td>8.463363e+06</td>\n",
       "      <td>23.000000</td>\n",
       "      <td>Huawei P20 Lite Huawei Nova 3E</td>\n",
       "      <td>38.0</td>\n",
       "    </tr>\n",
       "    <tr>\n",
       "      <th>1</th>\n",
       "      <td>3.360100e+10</td>\n",
       "      <td>8.463363e+06</td>\n",
       "      <td>15.500000</td>\n",
       "      <td>Apple iPhone 7 (A1778)</td>\n",
       "      <td>49.5</td>\n",
       "    </tr>\n",
       "    <tr>\n",
       "      <th>2</th>\n",
       "      <td>3.360100e+10</td>\n",
       "      <td>8.463363e+06</td>\n",
       "      <td>68.269961</td>\n",
       "      <td>undefined</td>\n",
       "      <td>48.5</td>\n",
       "    </tr>\n",
       "    <tr>\n",
       "      <th>3</th>\n",
       "      <td>3.360101e+10</td>\n",
       "      <td>1.066000e+03</td>\n",
       "      <td>42.000000</td>\n",
       "      <td>Apple iPhone 5S (A1457)</td>\n",
       "      <td>124.0</td>\n",
       "    </tr>\n",
       "    <tr>\n",
       "      <th>4</th>\n",
       "      <td>3.360101e+10</td>\n",
       "      <td>4.685416e+06</td>\n",
       "      <td>29.750000</td>\n",
       "      <td>Apple iPhone Se (A1723)</td>\n",
       "      <td>14211.0</td>\n",
       "    </tr>\n",
       "    <tr>\n",
       "      <th>...</th>\n",
       "      <td>...</td>\n",
       "      <td>...</td>\n",
       "      <td>...</td>\n",
       "      <td>...</td>\n",
       "      <td>...</td>\n",
       "    </tr>\n",
       "    <tr>\n",
       "      <th>106851</th>\n",
       "      <td>3.379000e+10</td>\n",
       "      <td>1.090225e+05</td>\n",
       "      <td>26.000000</td>\n",
       "      <td>Huawei Honor 9 Lite</td>\n",
       "      <td>5182.5</td>\n",
       "    </tr>\n",
       "    <tr>\n",
       "      <th>106852</th>\n",
       "      <td>3.379000e+10</td>\n",
       "      <td>8.463363e+06</td>\n",
       "      <td>20.000000</td>\n",
       "      <td>Apple iPhone 8 Plus (A1897)</td>\n",
       "      <td>58.0</td>\n",
       "    </tr>\n",
       "    <tr>\n",
       "      <th>106853</th>\n",
       "      <td>3.197020e+12</td>\n",
       "      <td>8.463363e+06</td>\n",
       "      <td>68.269961</td>\n",
       "      <td>Quectel Wireless. Quectel Ec25-E</td>\n",
       "      <td>0.5</td>\n",
       "    </tr>\n",
       "    <tr>\n",
       "      <th>106854</th>\n",
       "      <td>3.370000e+14</td>\n",
       "      <td>8.463363e+06</td>\n",
       "      <td>68.269961</td>\n",
       "      <td>Huawei B525S-23A</td>\n",
       "      <td>16.5</td>\n",
       "    </tr>\n",
       "    <tr>\n",
       "      <th>106855</th>\n",
       "      <td>8.823970e+14</td>\n",
       "      <td>8.463363e+06</td>\n",
       "      <td>68.269961</td>\n",
       "      <td>Quectel Wireless. Quectel Ec21-E</td>\n",
       "      <td>1.0</td>\n",
       "    </tr>\n",
       "  </tbody>\n",
       "</table>\n",
       "<p>106856 rows × 5 columns</p>\n",
       "</div>"
      ],
      "text/plain": [
       "        MSISDN/Number  Avg_TCP_Retransmission    Avg_RTT  \\\n",
       "0        3.360100e+10            8.463363e+06  23.000000   \n",
       "1        3.360100e+10            8.463363e+06  15.500000   \n",
       "2        3.360100e+10            8.463363e+06  68.269961   \n",
       "3        3.360101e+10            1.066000e+03  42.000000   \n",
       "4        3.360101e+10            4.685416e+06  29.750000   \n",
       "...               ...                     ...        ...   \n",
       "106851   3.379000e+10            1.090225e+05  26.000000   \n",
       "106852   3.379000e+10            8.463363e+06  20.000000   \n",
       "106853   3.197020e+12            8.463363e+06  68.269961   \n",
       "106854   3.370000e+14            8.463363e+06  68.269961   \n",
       "106855   8.823970e+14            8.463363e+06  68.269961   \n",
       "\n",
       "                            Handset_Type  Avg_Throughput  \n",
       "0         Huawei P20 Lite Huawei Nova 3E            38.0  \n",
       "1                 Apple iPhone 7 (A1778)            49.5  \n",
       "2                              undefined            48.5  \n",
       "3                Apple iPhone 5S (A1457)           124.0  \n",
       "4                Apple iPhone Se (A1723)         14211.0  \n",
       "...                                  ...             ...  \n",
       "106851               Huawei Honor 9 Lite          5182.5  \n",
       "106852       Apple iPhone 8 Plus (A1897)            58.0  \n",
       "106853  Quectel Wireless. Quectel Ec25-E             0.5  \n",
       "106854                  Huawei B525S-23A            16.5  \n",
       "106855  Quectel Wireless. Quectel Ec21-E             1.0  \n",
       "\n",
       "[106856 rows x 5 columns]"
      ]
     },
     "execution_count": 30,
     "metadata": {},
     "output_type": "execute_result"
    }
   ],
   "source": [
    "# Create a new DataFrame with aggregated information\n",
    "aggregated_data1 = pd.DataFrame({\n",
    "    'Avg_TCP_Retransmission': avg_tcp_retransmission,\n",
    "    'Avg_RTT': avg_rtt,\n",
    "    'Handset_Type': handset_mode,\n",
    "    'Avg_Throughput': avg_throughput\n",
    "})\n",
    "\n",
    "# Reset the index to make 'MSISDN/Number' a column instead of the index\n",
    "aggregated_data1.reset_index(inplace=True)\n",
    "\n",
    "# Display the aggregated data\n",
    "aggregated_data1"
   ]
  },
  {
   "cell_type": "markdown",
   "id": "18f7b0f8",
   "metadata": {},
   "source": [
    "#### Data Scaling"
   ]
  },
  {
   "cell_type": "code",
   "execution_count": 31,
   "id": "9bb31884",
   "metadata": {},
   "outputs": [],
   "source": [
    "aggregated_data1['Avg_TCP_Retransmission']=mms.fit_transform(aggregated_data1[['Avg_TCP_Retransmission']])\n",
    "aggregated_data1['Avg_RTT']=mms.fit_transform(aggregated_data1[['Avg_RTT']])\n",
    "aggregated_data1['Avg_Throughput']=mms.fit_transform(aggregated_data1[['Avg_Throughput']])\n"
   ]
  },
  {
   "cell_type": "code",
   "execution_count": 32,
   "id": "ba9e35ff",
   "metadata": {},
   "outputs": [],
   "source": [
    "\n",
    "user_data = aggregated_data1[['Avg_TCP_Retransmission', 'Avg_RTT', 'Avg_Throughput']].values\n",
    "\n"
   ]
  },
  {
   "cell_type": "code",
   "execution_count": 33,
   "id": "865790e4",
   "metadata": {},
   "outputs": [
    {
     "data": {
      "image/png": "[encoded data removed]",
      "text/plain": [
       "<Figure size 2000x500 with 1 Axes>"
      ]
     },
     "metadata": {},
     "output_type": "display_data"
    }
   ],
   "source": [
    "sse = {};\n",
    "kmax = 10\n",
    "fig = plt.subplots(figsize = (20,5))\n",
    "\n",
    "# Elbow Method :\n",
    "for k in range(1, 10):\n",
    "    kmeans = KMeans(n_clusters=k, max_iter=1000).fit(user_data)\n",
    "    sse[k] = kmeans.inertia_ # Inertia: Sum of distances of samples to their closest cluster center\n",
    "sns.lineplot(x = list(sse.keys()), y = list(sse.values()));\n",
    "plt.title('Elbow Method')\n",
    "plt.xlabel(\"k : Number of cluster\")\n",
    "plt.ylabel(\"Sum of Squared Error\")\n",
    "plt.grid()"
   ]
  },
  {
   "cell_type": "code",
   "execution_count": 34,
   "id": "cd9980b7",
   "metadata": {},
   "outputs": [],
   "source": [
    "from sklearn.cluster import KMeans\n"
   ]
  },
  {
   "cell_type": "code",
   "execution_count": 35,
   "id": "32c26a5a",
   "metadata": {},
   "outputs": [],
   "source": [
    "model = KMeans(n_clusters = 2,\n",
    "               max_iter = 1000)"
   ]
  },
  {
   "cell_type": "code",
   "execution_count": 36,
   "id": "b47e139c",
   "metadata": {},
   "outputs": [
    {
     "data": {
      "text/html": [
       "<style>#sk-container-id-2 {color: black;background-color: white;}#sk-container-id-2 pre{padding: 0;}#sk-container-id-2 div.sk-toggleable {background-color: white;}#sk-container-id-2 label.sk-toggleable__label {cursor: pointer;display: block;width: 100%;margin-bottom: 0;padding: 0.3em;box-sizing: border-box;text-align: center;}#sk-container-id-2 label.sk-toggleable__label-arrow:before {content: \"▸\";float: left;margin-right: 0.25em;color: #696969;}#sk-container-id-2 label.sk-toggleable__label-arrow:hover:before {color: black;}#sk-container-id-2 div.sk-estimator:hover label.sk-toggleable__label-arrow:before {color: black;}#sk-container-id-2 div.sk-toggleable__content {max-height: 0;max-width: 0;overflow: hidden;text-align: left;background-color: #f0f8ff;}#sk-container-id-2 div.sk-toggleable__content pre {margin: 0.2em;color: black;border-radius: 0.25em;background-color: #f0f8ff;}#sk-container-id-2 input.sk-toggleable__control:checked~div.sk-toggleable__content {max-height: 200px;max-width: 100%;overflow: auto;}#sk-container-id-2 input.sk-toggleable__control:checked~label.sk-toggleable__label-arrow:before {content: \"▾\";}#sk-container-id-2 div.sk-estimator input.sk-toggleable__control:checked~label.sk-toggleable__label {background-color: #d4ebff;}#sk-container-id-2 div.sk-label input.sk-toggleable__control:checked~label.sk-toggleable__label {background-color: #d4ebff;}#sk-container-id-2 input.sk-hidden--visually {border: 0;clip: rect(1px 1px 1px 1px);clip: rect(1px, 1px, 1px, 1px);height: 1px;margin: -1px;overflow: hidden;padding: 0;position: absolute;width: 1px;}#sk-container-id-2 div.sk-estimator {font-family: monospace;background-color: #f0f8ff;border: 1px dotted black;border-radius: 0.25em;box-sizing: border-box;margin-bottom: 0.5em;}#sk-container-id-2 div.sk-estimator:hover {background-color: #d4ebff;}#sk-container-id-2 div.sk-parallel-item::after {content: \"\";width: 100%;border-bottom: 1px solid gray;flex-grow: 1;}#sk-container-id-2 div.sk-label:hover label.sk-toggleable__label {background-color: #d4ebff;}#sk-container-id-2 div.sk-serial::before {content: \"\";position: absolute;border-left: 1px solid gray;box-sizing: border-box;top: 0;bottom: 0;left: 50%;z-index: 0;}#sk-container-id-2 div.sk-serial {display: flex;flex-direction: column;align-items: center;background-color: white;padding-right: 0.2em;padding-left: 0.2em;position: relative;}#sk-container-id-2 div.sk-item {position: relative;z-index: 1;}#sk-container-id-2 div.sk-parallel {display: flex;align-items: stretch;justify-content: center;background-color: white;position: relative;}#sk-container-id-2 div.sk-item::before, #sk-container-id-2 div.sk-parallel-item::before {content: \"\";position: absolute;border-left: 1px solid gray;box-sizing: border-box;top: 0;bottom: 0;left: 50%;z-index: -1;}#sk-container-id-2 div.sk-parallel-item {display: flex;flex-direction: column;z-index: 1;position: relative;background-color: white;}#sk-container-id-2 div.sk-parallel-item:first-child::after {align-self: flex-end;width: 50%;}#sk-container-id-2 div.sk-parallel-item:last-child::after {align-self: flex-start;width: 50%;}#sk-container-id-2 div.sk-parallel-item:only-child::after {width: 0;}#sk-container-id-2 div.sk-dashed-wrapped {border: 1px dashed gray;margin: 0 0.4em 0.5em 0.4em;box-sizing: border-box;padding-bottom: 0.4em;background-color: white;}#sk-container-id-2 div.sk-label label {font-family: monospace;font-weight: bold;display: inline-block;line-height: 1.2em;}#sk-container-id-2 div.sk-label-container {text-align: center;}#sk-container-id-2 div.sk-container {/* jupyter's `normalize.less` sets `[hidden] { display: none; }` but bootstrap.min.css set `[hidden] { display: none !important; }` so we also need the `!important` here to be able to override the default hidden behavior on the sphinx rendered scikit-learn.org. See: https://github.com/scikit-learn/scikit-learn/issues/21755 */display: inline-block !important;position: relative;}#sk-container-id-2 div.sk-text-repr-fallback {display: none;}</style><div id=\"sk-container-id-2\" class=\"sk-top-container\"><div class=\"sk-text-repr-fallback\"><pre>KMeans(max_iter=1000, n_clusters=2)</pre><b>In a Jupyter environment, please rerun this cell to show the HTML representation or trust the notebook. <br />On GitHub, the HTML representation is unable to render, please try loading this page with nbviewer.org.</b></div><div class=\"sk-container\" hidden><div class=\"sk-item\"><div class=\"sk-estimator sk-toggleable\"><input class=\"sk-toggleable__control sk-hidden--visually\" id=\"sk-estimator-id-2\" type=\"checkbox\" checked><label for=\"sk-estimator-id-2\" class=\"sk-toggleable__label sk-toggleable__label-arrow\">KMeans</label><div class=\"sk-toggleable__content\"><pre>KMeans(max_iter=1000, n_clusters=2)</pre></div></div></div></div></div>"
      ],
      "text/plain": [
       "KMeans(max_iter=1000, n_clusters=2)"
      ]
     },
     "execution_count": 36,
     "metadata": {},
     "output_type": "execute_result"
    }
   ],
   "source": [
    "model.fit(user_data)"
   ]
  },
  {
   "cell_type": "code",
   "execution_count": 37,
   "id": "e61a2138",
   "metadata": {},
   "outputs": [],
   "source": [
    "# Finding the cluster centroids\n",
    "cluster = model.cluster_centers_"
   ]
  },
  {
   "cell_type": "code",
   "execution_count": 38,
   "id": "e63ba134",
   "metadata": {},
   "outputs": [
    {
     "data": {
      "text/plain": [
       "array([[0.00199811, 0.0014808 , 0.0154323 ],\n",
       "       [0.00623864, 0.00106067, 0.19551877]])"
      ]
     },
     "execution_count": 38,
     "metadata": {},
     "output_type": "execute_result"
    }
   ],
   "source": [
    "cluster"
   ]
  },
  {
   "cell_type": "code",
   "execution_count": 39,
   "id": "7f1097e2",
   "metadata": {},
   "outputs": [
    {
     "data": {
      "text/plain": [
       "array([0, 0, 0, ..., 0, 0, 0])"
      ]
     },
     "execution_count": 39,
     "metadata": {},
     "output_type": "execute_result"
    }
   ],
   "source": [
    "labels = model.labels_\n",
    "labels"
   ]
  },
  {
   "cell_type": "code",
   "execution_count": 40,
   "id": "98d6b0a4",
   "metadata": {},
   "outputs": [],
   "source": [
    "centroids= np.array(cluster)"
   ]
  },
  {
   "cell_type": "code",
   "execution_count": 41,
   "id": "ff5e7cd9",
   "metadata": {},
   "outputs": [
    {
     "data": {
      "text/plain": [
       "array([[0.00199811, 0.0014808 , 0.0154323 ],\n",
       "       [0.00623864, 0.00106067, 0.19551877]])"
      ]
     },
     "execution_count": 41,
     "metadata": {},
     "output_type": "execute_result"
    }
   ],
   "source": [
    "centroids"
   ]
  },
  {
   "cell_type": "code",
   "execution_count": 42,
   "id": "dc4a95f0",
   "metadata": {},
   "outputs": [
    {
     "data": {
      "text/html": [
       "<div>\n",
       "<style scoped>\n",
       "    .dataframe tbody tr th:only-of-type {\n",
       "        vertical-align: middle;\n",
       "    }\n",
       "\n",
       "    .dataframe tbody tr th {\n",
       "        vertical-align: top;\n",
       "    }\n",
       "\n",
       "    .dataframe thead th {\n",
       "        text-align: right;\n",
       "    }\n",
       "</style>\n",
       "<table border=\"1\" class=\"dataframe\">\n",
       "  <thead>\n",
       "    <tr style=\"text-align: right;\">\n",
       "      <th></th>\n",
       "      <th>MSISDN/Number</th>\n",
       "      <th>Avg_TCP_Retransmission</th>\n",
       "      <th>Avg_RTT</th>\n",
       "      <th>Handset_Type</th>\n",
       "      <th>Avg_Throughput</th>\n",
       "      <th>Experience Score</th>\n",
       "    </tr>\n",
       "  </thead>\n",
       "  <tbody>\n",
       "    <tr>\n",
       "      <th>0</th>\n",
       "      <td>3.360100e+10</td>\n",
       "      <td>2.725529e-03</td>\n",
       "      <td>0.000475</td>\n",
       "      <td>Huawei P20 Lite Huawei Nova 3E</td>\n",
       "      <td>0.000268</td>\n",
       "      <td>0.191190</td>\n",
       "    </tr>\n",
       "    <tr>\n",
       "      <th>1</th>\n",
       "      <td>3.360100e+10</td>\n",
       "      <td>2.725529e-03</td>\n",
       "      <td>0.000320</td>\n",
       "      <td>Apple iPhone 7 (A1778)</td>\n",
       "      <td>0.000349</td>\n",
       "      <td>0.191111</td>\n",
       "    </tr>\n",
       "    <tr>\n",
       "      <th>2</th>\n",
       "      <td>3.360100e+10</td>\n",
       "      <td>2.725529e-03</td>\n",
       "      <td>0.001409</td>\n",
       "      <td>undefined</td>\n",
       "      <td>0.000342</td>\n",
       "      <td>0.191117</td>\n",
       "    </tr>\n",
       "    <tr>\n",
       "      <th>3</th>\n",
       "      <td>3.360101e+10</td>\n",
       "      <td>3.426491e-07</td>\n",
       "      <td>0.000867</td>\n",
       "      <td>Apple iPhone 5S (A1457)</td>\n",
       "      <td>0.000873</td>\n",
       "      <td>0.190661</td>\n",
       "    </tr>\n",
       "    <tr>\n",
       "      <th>4</th>\n",
       "      <td>3.360101e+10</td>\n",
       "      <td>1.508884e-03</td>\n",
       "      <td>0.000614</td>\n",
       "      <td>Apple iPhone Se (A1723)</td>\n",
       "      <td>0.100102</td>\n",
       "      <td>0.093116</td>\n",
       "    </tr>\n",
       "    <tr>\n",
       "      <th>...</th>\n",
       "      <td>...</td>\n",
       "      <td>...</td>\n",
       "      <td>...</td>\n",
       "      <td>...</td>\n",
       "      <td>...</td>\n",
       "      <td>...</td>\n",
       "    </tr>\n",
       "    <tr>\n",
       "      <th>106851</th>\n",
       "      <td>3.379000e+10</td>\n",
       "      <td>3.510881e-05</td>\n",
       "      <td>0.000537</td>\n",
       "      <td>Huawei Honor 9 Lite</td>\n",
       "      <td>0.036505</td>\n",
       "      <td>0.155648</td>\n",
       "    </tr>\n",
       "    <tr>\n",
       "      <th>106852</th>\n",
       "      <td>3.379000e+10</td>\n",
       "      <td>2.725529e-03</td>\n",
       "      <td>0.000413</td>\n",
       "      <td>Apple iPhone 8 Plus (A1897)</td>\n",
       "      <td>0.000409</td>\n",
       "      <td>0.191052</td>\n",
       "    </tr>\n",
       "    <tr>\n",
       "      <th>106853</th>\n",
       "      <td>3.197020e+12</td>\n",
       "      <td>2.725529e-03</td>\n",
       "      <td>0.001409</td>\n",
       "      <td>Quectel Wireless. Quectel Ec25-E</td>\n",
       "      <td>0.000004</td>\n",
       "      <td>0.191449</td>\n",
       "    </tr>\n",
       "    <tr>\n",
       "      <th>106854</th>\n",
       "      <td>3.370000e+14</td>\n",
       "      <td>2.725529e-03</td>\n",
       "      <td>0.001409</td>\n",
       "      <td>Huawei B525S-23A</td>\n",
       "      <td>0.000116</td>\n",
       "      <td>0.191339</td>\n",
       "    </tr>\n",
       "    <tr>\n",
       "      <th>106855</th>\n",
       "      <td>8.823970e+14</td>\n",
       "      <td>2.725529e-03</td>\n",
       "      <td>0.001409</td>\n",
       "      <td>Quectel Wireless. Quectel Ec21-E</td>\n",
       "      <td>0.000007</td>\n",
       "      <td>0.191446</td>\n",
       "    </tr>\n",
       "  </tbody>\n",
       "</table>\n",
       "<p>106856 rows × 6 columns</p>\n",
       "</div>"
      ],
      "text/plain": [
       "        MSISDN/Number  Avg_TCP_Retransmission   Avg_RTT  \\\n",
       "0        3.360100e+10            2.725529e-03  0.000475   \n",
       "1        3.360100e+10            2.725529e-03  0.000320   \n",
       "2        3.360100e+10            2.725529e-03  0.001409   \n",
       "3        3.360101e+10            3.426491e-07  0.000867   \n",
       "4        3.360101e+10            1.508884e-03  0.000614   \n",
       "...               ...                     ...       ...   \n",
       "106851   3.379000e+10            3.510881e-05  0.000537   \n",
       "106852   3.379000e+10            2.725529e-03  0.000413   \n",
       "106853   3.197020e+12            2.725529e-03  0.001409   \n",
       "106854   3.370000e+14            2.725529e-03  0.001409   \n",
       "106855   8.823970e+14            2.725529e-03  0.001409   \n",
       "\n",
       "                            Handset_Type  Avg_Throughput  Experience Score  \n",
       "0         Huawei P20 Lite Huawei Nova 3E        0.000268          0.191190  \n",
       "1                 Apple iPhone 7 (A1778)        0.000349          0.191111  \n",
       "2                              undefined        0.000342          0.191117  \n",
       "3                Apple iPhone 5S (A1457)        0.000873          0.190661  \n",
       "4                Apple iPhone Se (A1723)        0.100102          0.093116  \n",
       "...                                  ...             ...               ...  \n",
       "106851               Huawei Honor 9 Lite        0.036505          0.155648  \n",
       "106852       Apple iPhone 8 Plus (A1897)        0.000409          0.191052  \n",
       "106853  Quectel Wireless. Quectel Ec25-E        0.000004          0.191449  \n",
       "106854                  Huawei B525S-23A        0.000116          0.191339  \n",
       "106855  Quectel Wireless. Quectel Ec21-E        0.000007          0.191446  \n",
       "\n",
       "[106856 rows x 6 columns]"
      ]
     },
     "execution_count": 42,
     "metadata": {},
     "output_type": "execute_result"
    }
   ],
   "source": [
    "cluster_centroids = centroids\n",
    "\n",
    "distances = euclidean_distances(user_data, cluster_centroids)\n",
    "\n",
    "worst_experience_cluster_index = cluster_centroids.shape[0] - 1\n",
    "\n",
    "experience_scores = distances[:, worst_experience_cluster_index]\n",
    "\n",
    "mms = MinMaxScaler()\n",
    "experience_scores = mms.fit_transform(experience_scores.reshape(-1, 1))\n",
    "\n",
    "aggregated_data1['Experience Score'] = experience_scores\n",
    "\n",
    "aggregated_data1"
   ]
  },
  {
   "cell_type": "code",
   "execution_count": 43,
   "id": "6a84e0a4",
   "metadata": {},
   "outputs": [
    {
     "data": {
      "text/html": [
       "<div>\n",
       "<style scoped>\n",
       "    .dataframe tbody tr th:only-of-type {\n",
       "        vertical-align: middle;\n",
       "    }\n",
       "\n",
       "    .dataframe tbody tr th {\n",
       "        vertical-align: top;\n",
       "    }\n",
       "\n",
       "    .dataframe thead th {\n",
       "        text-align: right;\n",
       "    }\n",
       "</style>\n",
       "<table border=\"1\" class=\"dataframe\">\n",
       "  <thead>\n",
       "    <tr style=\"text-align: right;\">\n",
       "      <th></th>\n",
       "      <th>Session Frequency</th>\n",
       "      <th>Session Duration</th>\n",
       "      <th>Total Traffic</th>\n",
       "      <th>Engagement Score</th>\n",
       "    </tr>\n",
       "    <tr>\n",
       "      <th>MSISDN/Number</th>\n",
       "      <th></th>\n",
       "      <th></th>\n",
       "      <th></th>\n",
       "      <th></th>\n",
       "    </tr>\n",
       "  </thead>\n",
       "  <tbody>\n",
       "    <tr>\n",
       "      <th>3.360100e+10</th>\n",
       "      <td>0.000000</td>\n",
       "      <td>0.005908</td>\n",
       "      <td>0.095931</td>\n",
       "      <td>0.023262</td>\n",
       "    </tr>\n",
       "    <tr>\n",
       "      <th>3.360100e+10</th>\n",
       "      <td>0.000000</td>\n",
       "      <td>0.009387</td>\n",
       "      <td>0.014026</td>\n",
       "      <td>0.025866</td>\n",
       "    </tr>\n",
       "    <tr>\n",
       "      <th>3.360100e+10</th>\n",
       "      <td>0.000000</td>\n",
       "      <td>0.006892</td>\n",
       "      <td>0.063851</td>\n",
       "      <td>0.003462</td>\n",
       "    </tr>\n",
       "    <tr>\n",
       "      <th>3.360101e+10</th>\n",
       "      <td>0.000000</td>\n",
       "      <td>0.002304</td>\n",
       "      <td>0.044148</td>\n",
       "      <td>0.007417</td>\n",
       "    </tr>\n",
       "    <tr>\n",
       "      <th>3.360101e+10</th>\n",
       "      <td>0.009288</td>\n",
       "      <td>0.001615</td>\n",
       "      <td>0.161598</td>\n",
       "      <td>0.064264</td>\n",
       "    </tr>\n",
       "    <tr>\n",
       "      <th>...</th>\n",
       "      <td>...</td>\n",
       "      <td>...</td>\n",
       "      <td>...</td>\n",
       "      <td>...</td>\n",
       "    </tr>\n",
       "    <tr>\n",
       "      <th>3.379000e+10</th>\n",
       "      <td>0.000000</td>\n",
       "      <td>0.000090</td>\n",
       "      <td>0.077317</td>\n",
       "      <td>0.012225</td>\n",
       "    </tr>\n",
       "    <tr>\n",
       "      <th>3.379000e+10</th>\n",
       "      <td>0.000000</td>\n",
       "      <td>0.007217</td>\n",
       "      <td>0.050727</td>\n",
       "      <td>0.003158</td>\n",
       "    </tr>\n",
       "    <tr>\n",
       "      <th>3.197020e+12</th>\n",
       "      <td>0.000000</td>\n",
       "      <td>0.046922</td>\n",
       "      <td>0.022566</td>\n",
       "      <td>0.032340</td>\n",
       "    </tr>\n",
       "    <tr>\n",
       "      <th>3.370000e+14</th>\n",
       "      <td>0.000000</td>\n",
       "      <td>0.013258</td>\n",
       "      <td>0.063887</td>\n",
       "      <td>0.005386</td>\n",
       "    </tr>\n",
       "    <tr>\n",
       "      <th>8.823970e+14</th>\n",
       "      <td>0.000000</td>\n",
       "      <td>0.046515</td>\n",
       "      <td>0.012017</td>\n",
       "      <td>0.036717</td>\n",
       "    </tr>\n",
       "  </tbody>\n",
       "</table>\n",
       "<p>106856 rows × 4 columns</p>\n",
       "</div>"
      ],
      "text/plain": [
       "               Session Frequency  Session Duration  Total Traffic  \\\n",
       "MSISDN/Number                                                       \n",
       "3.360100e+10            0.000000          0.005908       0.095931   \n",
       "3.360100e+10            0.000000          0.009387       0.014026   \n",
       "3.360100e+10            0.000000          0.006892       0.063851   \n",
       "3.360101e+10            0.000000          0.002304       0.044148   \n",
       "3.360101e+10            0.009288          0.001615       0.161598   \n",
       "...                          ...               ...            ...   \n",
       "3.379000e+10            0.000000          0.000090       0.077317   \n",
       "3.379000e+10            0.000000          0.007217       0.050727   \n",
       "3.197020e+12            0.000000          0.046922       0.022566   \n",
       "3.370000e+14            0.000000          0.013258       0.063887   \n",
       "8.823970e+14            0.000000          0.046515       0.012017   \n",
       "\n",
       "               Engagement Score  \n",
       "MSISDN/Number                    \n",
       "3.360100e+10           0.023262  \n",
       "3.360100e+10           0.025866  \n",
       "3.360100e+10           0.003462  \n",
       "3.360101e+10           0.007417  \n",
       "3.360101e+10           0.064264  \n",
       "...                         ...  \n",
       "3.379000e+10           0.012225  \n",
       "3.379000e+10           0.003158  \n",
       "3.197020e+12           0.032340  \n",
       "3.370000e+14           0.005386  \n",
       "8.823970e+14           0.036717  \n",
       "\n",
       "[106856 rows x 4 columns]"
      ]
     },
     "execution_count": 43,
     "metadata": {},
     "output_type": "execute_result"
    }
   ],
   "source": [
    "aggregated_data"
   ]
  },
  {
   "cell_type": "code",
   "execution_count": 44,
   "id": "751c70d0",
   "metadata": {},
   "outputs": [
    {
     "data": {
      "text/html": [
       "<div>\n",
       "<style scoped>\n",
       "    .dataframe tbody tr th:only-of-type {\n",
       "        vertical-align: middle;\n",
       "    }\n",
       "\n",
       "    .dataframe tbody tr th {\n",
       "        vertical-align: top;\n",
       "    }\n",
       "\n",
       "    .dataframe thead th {\n",
       "        text-align: right;\n",
       "    }\n",
       "</style>\n",
       "<table border=\"1\" class=\"dataframe\">\n",
       "  <thead>\n",
       "    <tr style=\"text-align: right;\">\n",
       "      <th></th>\n",
       "      <th>MSISDN/Number</th>\n",
       "      <th>Avg_TCP_Retransmission</th>\n",
       "      <th>Avg_RTT</th>\n",
       "      <th>Handset_Type</th>\n",
       "      <th>Avg_Throughput</th>\n",
       "      <th>Experience Score</th>\n",
       "    </tr>\n",
       "  </thead>\n",
       "  <tbody>\n",
       "    <tr>\n",
       "      <th>0</th>\n",
       "      <td>3.360100e+10</td>\n",
       "      <td>2.725529e-03</td>\n",
       "      <td>0.000475</td>\n",
       "      <td>Huawei P20 Lite Huawei Nova 3E</td>\n",
       "      <td>0.000268</td>\n",
       "      <td>0.191190</td>\n",
       "    </tr>\n",
       "    <tr>\n",
       "      <th>1</th>\n",
       "      <td>3.360100e+10</td>\n",
       "      <td>2.725529e-03</td>\n",
       "      <td>0.000320</td>\n",
       "      <td>Apple iPhone 7 (A1778)</td>\n",
       "      <td>0.000349</td>\n",
       "      <td>0.191111</td>\n",
       "    </tr>\n",
       "    <tr>\n",
       "      <th>2</th>\n",
       "      <td>3.360100e+10</td>\n",
       "      <td>2.725529e-03</td>\n",
       "      <td>0.001409</td>\n",
       "      <td>undefined</td>\n",
       "      <td>0.000342</td>\n",
       "      <td>0.191117</td>\n",
       "    </tr>\n",
       "    <tr>\n",
       "      <th>3</th>\n",
       "      <td>3.360101e+10</td>\n",
       "      <td>3.426491e-07</td>\n",
       "      <td>0.000867</td>\n",
       "      <td>Apple iPhone 5S (A1457)</td>\n",
       "      <td>0.000873</td>\n",
       "      <td>0.190661</td>\n",
       "    </tr>\n",
       "    <tr>\n",
       "      <th>4</th>\n",
       "      <td>3.360101e+10</td>\n",
       "      <td>1.508884e-03</td>\n",
       "      <td>0.000614</td>\n",
       "      <td>Apple iPhone Se (A1723)</td>\n",
       "      <td>0.100102</td>\n",
       "      <td>0.093116</td>\n",
       "    </tr>\n",
       "    <tr>\n",
       "      <th>...</th>\n",
       "      <td>...</td>\n",
       "      <td>...</td>\n",
       "      <td>...</td>\n",
       "      <td>...</td>\n",
       "      <td>...</td>\n",
       "      <td>...</td>\n",
       "    </tr>\n",
       "    <tr>\n",
       "      <th>106851</th>\n",
       "      <td>3.379000e+10</td>\n",
       "      <td>3.510881e-05</td>\n",
       "      <td>0.000537</td>\n",
       "      <td>Huawei Honor 9 Lite</td>\n",
       "      <td>0.036505</td>\n",
       "      <td>0.155648</td>\n",
       "    </tr>\n",
       "    <tr>\n",
       "      <th>106852</th>\n",
       "      <td>3.379000e+10</td>\n",
       "      <td>2.725529e-03</td>\n",
       "      <td>0.000413</td>\n",
       "      <td>Apple iPhone 8 Plus (A1897)</td>\n",
       "      <td>0.000409</td>\n",
       "      <td>0.191052</td>\n",
       "    </tr>\n",
       "    <tr>\n",
       "      <th>106853</th>\n",
       "      <td>3.197020e+12</td>\n",
       "      <td>2.725529e-03</td>\n",
       "      <td>0.001409</td>\n",
       "      <td>Quectel Wireless. Quectel Ec25-E</td>\n",
       "      <td>0.000004</td>\n",
       "      <td>0.191449</td>\n",
       "    </tr>\n",
       "    <tr>\n",
       "      <th>106854</th>\n",
       "      <td>3.370000e+14</td>\n",
       "      <td>2.725529e-03</td>\n",
       "      <td>0.001409</td>\n",
       "      <td>Huawei B525S-23A</td>\n",
       "      <td>0.000116</td>\n",
       "      <td>0.191339</td>\n",
       "    </tr>\n",
       "    <tr>\n",
       "      <th>106855</th>\n",
       "      <td>8.823970e+14</td>\n",
       "      <td>2.725529e-03</td>\n",
       "      <td>0.001409</td>\n",
       "      <td>Quectel Wireless. Quectel Ec21-E</td>\n",
       "      <td>0.000007</td>\n",
       "      <td>0.191446</td>\n",
       "    </tr>\n",
       "  </tbody>\n",
       "</table>\n",
       "<p>106856 rows × 6 columns</p>\n",
       "</div>"
      ],
      "text/plain": [
       "        MSISDN/Number  Avg_TCP_Retransmission   Avg_RTT  \\\n",
       "0        3.360100e+10            2.725529e-03  0.000475   \n",
       "1        3.360100e+10            2.725529e-03  0.000320   \n",
       "2        3.360100e+10            2.725529e-03  0.001409   \n",
       "3        3.360101e+10            3.426491e-07  0.000867   \n",
       "4        3.360101e+10            1.508884e-03  0.000614   \n",
       "...               ...                     ...       ...   \n",
       "106851   3.379000e+10            3.510881e-05  0.000537   \n",
       "106852   3.379000e+10            2.725529e-03  0.000413   \n",
       "106853   3.197020e+12            2.725529e-03  0.001409   \n",
       "106854   3.370000e+14            2.725529e-03  0.001409   \n",
       "106855   8.823970e+14            2.725529e-03  0.001409   \n",
       "\n",
       "                            Handset_Type  Avg_Throughput  Experience Score  \n",
       "0         Huawei P20 Lite Huawei Nova 3E        0.000268          0.191190  \n",
       "1                 Apple iPhone 7 (A1778)        0.000349          0.191111  \n",
       "2                              undefined        0.000342          0.191117  \n",
       "3                Apple iPhone 5S (A1457)        0.000873          0.190661  \n",
       "4                Apple iPhone Se (A1723)        0.100102          0.093116  \n",
       "...                                  ...             ...               ...  \n",
       "106851               Huawei Honor 9 Lite        0.036505          0.155648  \n",
       "106852       Apple iPhone 8 Plus (A1897)        0.000409          0.191052  \n",
       "106853  Quectel Wireless. Quectel Ec25-E        0.000004          0.191449  \n",
       "106854                  Huawei B525S-23A        0.000116          0.191339  \n",
       "106855  Quectel Wireless. Quectel Ec21-E        0.000007          0.191446  \n",
       "\n",
       "[106856 rows x 6 columns]"
      ]
     },
     "execution_count": 44,
     "metadata": {},
     "output_type": "execute_result"
    }
   ],
   "source": [
    "aggregated_data1"
   ]
  },
  {
   "cell_type": "markdown",
   "id": "ae13684e",
   "metadata": {},
   "source": [
    "#### Task 4.2 - Consider the average of both engagement & experience scores as the satisfaction  score & report the top 10 satisfied customer"
   ]
  },
  {
   "cell_type": "code",
   "execution_count": 45,
   "id": "c65c3d7c",
   "metadata": {},
   "outputs": [
    {
     "data": {
      "text/html": [
       "<div>\n",
       "<style scoped>\n",
       "    .dataframe tbody tr th:only-of-type {\n",
       "        vertical-align: middle;\n",
       "    }\n",
       "\n",
       "    .dataframe tbody tr th {\n",
       "        vertical-align: top;\n",
       "    }\n",
       "\n",
       "    .dataframe thead th {\n",
       "        text-align: right;\n",
       "    }\n",
       "</style>\n",
       "<table border=\"1\" class=\"dataframe\">\n",
       "  <thead>\n",
       "    <tr style=\"text-align: right;\">\n",
       "      <th></th>\n",
       "      <th>MSISDN/Number</th>\n",
       "      <th>Engagement Score</th>\n",
       "      <th>Experience Score</th>\n",
       "    </tr>\n",
       "  </thead>\n",
       "  <tbody>\n",
       "    <tr>\n",
       "      <th>0</th>\n",
       "      <td>3.360100e+10</td>\n",
       "      <td>0.023262</td>\n",
       "      <td>0.191190</td>\n",
       "    </tr>\n",
       "    <tr>\n",
       "      <th>1</th>\n",
       "      <td>3.360100e+10</td>\n",
       "      <td>0.025866</td>\n",
       "      <td>0.191111</td>\n",
       "    </tr>\n",
       "    <tr>\n",
       "      <th>2</th>\n",
       "      <td>3.360100e+10</td>\n",
       "      <td>0.003462</td>\n",
       "      <td>0.191117</td>\n",
       "    </tr>\n",
       "    <tr>\n",
       "      <th>3</th>\n",
       "      <td>3.360101e+10</td>\n",
       "      <td>0.007417</td>\n",
       "      <td>0.190661</td>\n",
       "    </tr>\n",
       "    <tr>\n",
       "      <th>4</th>\n",
       "      <td>3.360101e+10</td>\n",
       "      <td>0.064264</td>\n",
       "      <td>0.093116</td>\n",
       "    </tr>\n",
       "    <tr>\n",
       "      <th>...</th>\n",
       "      <td>...</td>\n",
       "      <td>...</td>\n",
       "      <td>...</td>\n",
       "    </tr>\n",
       "    <tr>\n",
       "      <th>106851</th>\n",
       "      <td>3.379000e+10</td>\n",
       "      <td>0.012225</td>\n",
       "      <td>0.155648</td>\n",
       "    </tr>\n",
       "    <tr>\n",
       "      <th>106852</th>\n",
       "      <td>3.379000e+10</td>\n",
       "      <td>0.003158</td>\n",
       "      <td>0.191052</td>\n",
       "    </tr>\n",
       "    <tr>\n",
       "      <th>106853</th>\n",
       "      <td>3.197020e+12</td>\n",
       "      <td>0.032340</td>\n",
       "      <td>0.191449</td>\n",
       "    </tr>\n",
       "    <tr>\n",
       "      <th>106854</th>\n",
       "      <td>3.370000e+14</td>\n",
       "      <td>0.005386</td>\n",
       "      <td>0.191339</td>\n",
       "    </tr>\n",
       "    <tr>\n",
       "      <th>106855</th>\n",
       "      <td>8.823970e+14</td>\n",
       "      <td>0.036717</td>\n",
       "      <td>0.191446</td>\n",
       "    </tr>\n",
       "  </tbody>\n",
       "</table>\n",
       "<p>106856 rows × 3 columns</p>\n",
       "</div>"
      ],
      "text/plain": [
       "        MSISDN/Number  Engagement Score  Experience Score\n",
       "0        3.360100e+10          0.023262          0.191190\n",
       "1        3.360100e+10          0.025866          0.191111\n",
       "2        3.360100e+10          0.003462          0.191117\n",
       "3        3.360101e+10          0.007417          0.190661\n",
       "4        3.360101e+10          0.064264          0.093116\n",
       "...               ...               ...               ...\n",
       "106851   3.379000e+10          0.012225          0.155648\n",
       "106852   3.379000e+10          0.003158          0.191052\n",
       "106853   3.197020e+12          0.032340          0.191449\n",
       "106854   3.370000e+14          0.005386          0.191339\n",
       "106855   8.823970e+14          0.036717          0.191446\n",
       "\n",
       "[106856 rows x 3 columns]"
      ]
     },
     "execution_count": 45,
     "metadata": {},
     "output_type": "execute_result"
    }
   ],
   "source": [
    "df = pd.DataFrame({\n",
    "    'MSISDN/Number': aggregated_data.index,\n",
    "    'Engagement Score': aggregated_data['Engagement Score']\n",
    "})\n",
    "\n",
    "df = df.reset_index(drop=True)\n",
    "\n",
    "df['Experience Score'] = experience_scores\n",
    "df\n",
    "\n",
    "\n",
    "\n",
    "\n",
    "\n"
   ]
  },
  {
   "cell_type": "code",
   "execution_count": 46,
   "id": "d2fae3c5",
   "metadata": {},
   "outputs": [],
   "source": [
    "df['Satisfaction Score'] = (df['Engagement Score'] + df['Experience Score']) / 2\n"
   ]
  },
  {
   "cell_type": "code",
   "execution_count": 47,
   "id": "e6b601fb",
   "metadata": {},
   "outputs": [
    {
     "data": {
      "text/plain": [
       "0         0.107226\n",
       "1         0.108489\n",
       "2         0.097289\n",
       "3         0.099039\n",
       "4         0.078690\n",
       "            ...   \n",
       "106851    0.083937\n",
       "106852    0.097105\n",
       "106853    0.111895\n",
       "106854    0.098362\n",
       "106855    0.114081\n",
       "Name: Satisfaction Score, Length: 106856, dtype: float64"
      ]
     },
     "execution_count": 47,
     "metadata": {},
     "output_type": "execute_result"
    }
   ],
   "source": [
    "df['Satisfaction Score']"
   ]
  },
  {
   "cell_type": "code",
   "execution_count": 48,
   "id": "6639d9b4",
   "metadata": {},
   "outputs": [
    {
     "data": {
      "text/html": [
       "<div>\n",
       "<style scoped>\n",
       "    .dataframe tbody tr th:only-of-type {\n",
       "        vertical-align: middle;\n",
       "    }\n",
       "\n",
       "    .dataframe tbody tr th {\n",
       "        vertical-align: top;\n",
       "    }\n",
       "\n",
       "    .dataframe thead th {\n",
       "        text-align: right;\n",
       "    }\n",
       "</style>\n",
       "<table border=\"1\" class=\"dataframe\">\n",
       "  <thead>\n",
       "    <tr style=\"text-align: right;\">\n",
       "      <th></th>\n",
       "      <th>MSISDN/Number</th>\n",
       "      <th>Engagement Score</th>\n",
       "      <th>Experience Score</th>\n",
       "      <th>Satisfaction Score</th>\n",
       "    </tr>\n",
       "  </thead>\n",
       "  <tbody>\n",
       "    <tr>\n",
       "      <th>0</th>\n",
       "      <td>3.360100e+10</td>\n",
       "      <td>0.023262</td>\n",
       "      <td>0.191190</td>\n",
       "      <td>0.107226</td>\n",
       "    </tr>\n",
       "    <tr>\n",
       "      <th>1</th>\n",
       "      <td>3.360100e+10</td>\n",
       "      <td>0.025866</td>\n",
       "      <td>0.191111</td>\n",
       "      <td>0.108489</td>\n",
       "    </tr>\n",
       "    <tr>\n",
       "      <th>2</th>\n",
       "      <td>3.360100e+10</td>\n",
       "      <td>0.003462</td>\n",
       "      <td>0.191117</td>\n",
       "      <td>0.097289</td>\n",
       "    </tr>\n",
       "    <tr>\n",
       "      <th>3</th>\n",
       "      <td>3.360101e+10</td>\n",
       "      <td>0.007417</td>\n",
       "      <td>0.190661</td>\n",
       "      <td>0.099039</td>\n",
       "    </tr>\n",
       "    <tr>\n",
       "      <th>4</th>\n",
       "      <td>3.360101e+10</td>\n",
       "      <td>0.064264</td>\n",
       "      <td>0.093116</td>\n",
       "      <td>0.078690</td>\n",
       "    </tr>\n",
       "    <tr>\n",
       "      <th>...</th>\n",
       "      <td>...</td>\n",
       "      <td>...</td>\n",
       "      <td>...</td>\n",
       "      <td>...</td>\n",
       "    </tr>\n",
       "    <tr>\n",
       "      <th>106851</th>\n",
       "      <td>3.379000e+10</td>\n",
       "      <td>0.012225</td>\n",
       "      <td>0.155648</td>\n",
       "      <td>0.083937</td>\n",
       "    </tr>\n",
       "    <tr>\n",
       "      <th>106852</th>\n",
       "      <td>3.379000e+10</td>\n",
       "      <td>0.003158</td>\n",
       "      <td>0.191052</td>\n",
       "      <td>0.097105</td>\n",
       "    </tr>\n",
       "    <tr>\n",
       "      <th>106853</th>\n",
       "      <td>3.197020e+12</td>\n",
       "      <td>0.032340</td>\n",
       "      <td>0.191449</td>\n",
       "      <td>0.111895</td>\n",
       "    </tr>\n",
       "    <tr>\n",
       "      <th>106854</th>\n",
       "      <td>3.370000e+14</td>\n",
       "      <td>0.005386</td>\n",
       "      <td>0.191339</td>\n",
       "      <td>0.098362</td>\n",
       "    </tr>\n",
       "    <tr>\n",
       "      <th>106855</th>\n",
       "      <td>8.823970e+14</td>\n",
       "      <td>0.036717</td>\n",
       "      <td>0.191446</td>\n",
       "      <td>0.114081</td>\n",
       "    </tr>\n",
       "  </tbody>\n",
       "</table>\n",
       "<p>106856 rows × 4 columns</p>\n",
       "</div>"
      ],
      "text/plain": [
       "        MSISDN/Number  Engagement Score  Experience Score  Satisfaction Score\n",
       "0        3.360100e+10          0.023262          0.191190            0.107226\n",
       "1        3.360100e+10          0.025866          0.191111            0.108489\n",
       "2        3.360100e+10          0.003462          0.191117            0.097289\n",
       "3        3.360101e+10          0.007417          0.190661            0.099039\n",
       "4        3.360101e+10          0.064264          0.093116            0.078690\n",
       "...               ...               ...               ...                 ...\n",
       "106851   3.379000e+10          0.012225          0.155648            0.083937\n",
       "106852   3.379000e+10          0.003158          0.191052            0.097105\n",
       "106853   3.197020e+12          0.032340          0.191449            0.111895\n",
       "106854   3.370000e+14          0.005386          0.191339            0.098362\n",
       "106855   8.823970e+14          0.036717          0.191446            0.114081\n",
       "\n",
       "[106856 rows x 4 columns]"
      ]
     },
     "execution_count": 48,
     "metadata": {},
     "output_type": "execute_result"
    }
   ],
   "source": [
    "df"
   ]
  },
  {
   "cell_type": "code",
   "execution_count": 49,
   "id": "d1042873",
   "metadata": {},
   "outputs": [
    {
     "name": "stdout",
     "output_type": "stream",
     "text": [
      "       MSISDN/Number  Engagement Score  Experience Score  Satisfaction Score\n",
      "13180   3.362578e+10          1.000000          0.149069            0.574534\n",
      "13526   3.362632e+10          0.861383          0.168190            0.514786\n",
      "47983   3.366232e+10          0.019784          1.000000            0.509892\n",
      "33226   3.365889e+10          0.001554          0.976328            0.488941\n",
      "6437    3.361489e+10          0.869405          0.104751            0.487078\n",
      "92923   3.376054e+10          0.770484          0.148713            0.459598\n",
      "61964   3.366610e+10          0.001550          0.858241            0.429895\n",
      "37052   3.365973e+10          0.714668          0.129679            0.422173\n",
      "76363   3.367588e+10          0.690969          0.144523            0.417746\n",
      "37838   3.365991e+10          0.007509          0.790177            0.398843\n"
     ]
    }
   ],
   "source": [
    "top_10_satisfied_customers = df.sort_values(by='Satisfaction Score', ascending=False).head(10)\n",
    "print(top_10_satisfied_customers)"
   ]
  },
  {
   "cell_type": "markdown",
   "id": "6602b445",
   "metadata": {},
   "source": [
    "# Task 4.3 - Build a regression model of your choice to predict the satisfaction score of a customer"
   ]
  },
  {
   "cell_type": "code",
   "execution_count": 50,
   "id": "3c4b006d",
   "metadata": {},
   "outputs": [],
   "source": [
    "from sklearn.model_selection import train_test_split\n",
    "from sklearn.linear_model import LinearRegression\n",
    "from sklearn.metrics import mean_squared_error"
   ]
  },
  {
   "cell_type": "code",
   "execution_count": 51,
   "id": "d29c6312",
   "metadata": {},
   "outputs": [],
   "source": [
    "X = df[['Engagement Score', 'Experience Score']]\n",
    "y = df['Satisfaction Score']\n"
   ]
  },
  {
   "cell_type": "code",
   "execution_count": 52,
   "id": "cd4b760f",
   "metadata": {},
   "outputs": [],
   "source": [
    "# Split the data into training and testing sets\n",
    "X_train, X_test, y_train, y_test = train_test_split(X, y, test_size=0.2, random_state=42)"
   ]
  },
  {
   "cell_type": "code",
   "execution_count": 53,
   "id": "a03b623d",
   "metadata": {},
   "outputs": [],
   "source": [
    "# Create a linear regression model\n",
    "model = LinearRegression()"
   ]
  },
  {
   "cell_type": "code",
   "execution_count": 54,
   "id": "9caa7335",
   "metadata": {},
   "outputs": [
    {
     "data": {
      "text/html": [
       "<style>#sk-container-id-3 {color: black;background-color: white;}#sk-container-id-3 pre{padding: 0;}#sk-container-id-3 div.sk-toggleable {background-color: white;}#sk-container-id-3 label.sk-toggleable__label {cursor: pointer;display: block;width: 100%;margin-bottom: 0;padding: 0.3em;box-sizing: border-box;text-align: center;}#sk-container-id-3 label.sk-toggleable__label-arrow:before {content: \"▸\";float: left;margin-right: 0.25em;color: #696969;}#sk-container-id-3 label.sk-toggleable__label-arrow:hover:before {color: black;}#sk-container-id-3 div.sk-estimator:hover label.sk-toggleable__label-arrow:before {color: black;}#sk-container-id-3 div.sk-toggleable__content {max-height: 0;max-width: 0;overflow: hidden;text-align: left;background-color: #f0f8ff;}#sk-container-id-3 div.sk-toggleable__content pre {margin: 0.2em;color: black;border-radius: 0.25em;background-color: #f0f8ff;}#sk-container-id-3 input.sk-toggleable__control:checked~div.sk-toggleable__content {max-height: 200px;max-width: 100%;overflow: auto;}#sk-container-id-3 input.sk-toggleable__control:checked~label.sk-toggleable__label-arrow:before {content: \"▾\";}#sk-container-id-3 div.sk-estimator input.sk-toggleable__control:checked~label.sk-toggleable__label {background-color: #d4ebff;}#sk-container-id-3 div.sk-label input.sk-toggleable__control:checked~label.sk-toggleable__label {background-color: #d4ebff;}#sk-container-id-3 input.sk-hidden--visually {border: 0;clip: rect(1px 1px 1px 1px);clip: rect(1px, 1px, 1px, 1px);height: 1px;margin: -1px;overflow: hidden;padding: 0;position: absolute;width: 1px;}#sk-container-id-3 div.sk-estimator {font-family: monospace;background-color: #f0f8ff;border: 1px dotted black;border-radius: 0.25em;box-sizing: border-box;margin-bottom: 0.5em;}#sk-container-id-3 div.sk-estimator:hover {background-color: #d4ebff;}#sk-container-id-3 div.sk-parallel-item::after {content: \"\";width: 100%;border-bottom: 1px solid gray;flex-grow: 1;}#sk-container-id-3 div.sk-label:hover label.sk-toggleable__label {background-color: #d4ebff;}#sk-container-id-3 div.sk-serial::before {content: \"\";position: absolute;border-left: 1px solid gray;box-sizing: border-box;top: 0;bottom: 0;left: 50%;z-index: 0;}#sk-container-id-3 div.sk-serial {display: flex;flex-direction: column;align-items: center;background-color: white;padding-right: 0.2em;padding-left: 0.2em;position: relative;}#sk-container-id-3 div.sk-item {position: relative;z-index: 1;}#sk-container-id-3 div.sk-parallel {display: flex;align-items: stretch;justify-content: center;background-color: white;position: relative;}#sk-container-id-3 div.sk-item::before, #sk-container-id-3 div.sk-parallel-item::before {content: \"\";position: absolute;border-left: 1px solid gray;box-sizing: border-box;top: 0;bottom: 0;left: 50%;z-index: -1;}#sk-container-id-3 div.sk-parallel-item {display: flex;flex-direction: column;z-index: 1;position: relative;background-color: white;}#sk-container-id-3 div.sk-parallel-item:first-child::after {align-self: flex-end;width: 50%;}#sk-container-id-3 div.sk-parallel-item:last-child::after {align-self: flex-start;width: 50%;}#sk-container-id-3 div.sk-parallel-item:only-child::after {width: 0;}#sk-container-id-3 div.sk-dashed-wrapped {border: 1px dashed gray;margin: 0 0.4em 0.5em 0.4em;box-sizing: border-box;padding-bottom: 0.4em;background-color: white;}#sk-container-id-3 div.sk-label label {font-family: monospace;font-weight: bold;display: inline-block;line-height: 1.2em;}#sk-container-id-3 div.sk-label-container {text-align: center;}#sk-container-id-3 div.sk-container {/* jupyter's `normalize.less` sets `[hidden] { display: none; }` but bootstrap.min.css set `[hidden] { display: none !important; }` so we also need the `!important` here to be able to override the default hidden behavior on the sphinx rendered scikit-learn.org. See: https://github.com/scikit-learn/scikit-learn/issues/21755 */display: inline-block !important;position: relative;}#sk-container-id-3 div.sk-text-repr-fallback {display: none;}</style><div id=\"sk-container-id-3\" class=\"sk-top-container\"><div class=\"sk-text-repr-fallback\"><pre>LinearRegression()</pre><b>In a Jupyter environment, please rerun this cell to show the HTML representation or trust the notebook. <br />On GitHub, the HTML representation is unable to render, please try loading this page with nbviewer.org.</b></div><div class=\"sk-container\" hidden><div class=\"sk-item\"><div class=\"sk-estimator sk-toggleable\"><input class=\"sk-toggleable__control sk-hidden--visually\" id=\"sk-estimator-id-3\" type=\"checkbox\" checked><label for=\"sk-estimator-id-3\" class=\"sk-toggleable__label sk-toggleable__label-arrow\">LinearRegression</label><div class=\"sk-toggleable__content\"><pre>LinearRegression()</pre></div></div></div></div></div>"
      ],
      "text/plain": [
       "LinearRegression()"
      ]
     },
     "execution_count": 54,
     "metadata": {},
     "output_type": "execute_result"
    }
   ],
   "source": [
    "# Train the model\n",
    "model.fit(X_train, y_train)"
   ]
  },
  {
   "cell_type": "code",
   "execution_count": 55,
   "id": "7396983f",
   "metadata": {},
   "outputs": [],
   "source": [
    "# Make predictions on the testing set\n",
    "y_pred = model.predict(X_test)"
   ]
  },
  {
   "cell_type": "code",
   "execution_count": 56,
   "id": "e94d88f8",
   "metadata": {},
   "outputs": [
    {
     "data": {
      "text/plain": [
       "array([0.0982728 , 0.09799078, 0.10471813, ..., 0.14474369, 0.08808696,\n",
       "       0.06034656])"
      ]
     },
     "execution_count": 56,
     "metadata": {},
     "output_type": "execute_result"
    }
   ],
   "source": [
    "y_pred"
   ]
  },
  {
   "cell_type": "code",
   "execution_count": 57,
   "id": "a2768252",
   "metadata": {},
   "outputs": [
    {
     "data": {
      "text/plain": [
       "64473    0.098273\n",
       "83243    0.097991\n",
       "39296    0.104718\n",
       "44869    0.074712\n",
       "99282    0.098070\n",
       "           ...   \n",
       "67669    0.059082\n",
       "63720    0.096079\n",
       "16701    0.144744\n",
       "44897    0.088087\n",
       "97963    0.060347\n",
       "Name: Satisfaction Score, Length: 21372, dtype: float64"
      ]
     },
     "execution_count": 57,
     "metadata": {},
     "output_type": "execute_result"
    }
   ],
   "source": [
    "y_test"
   ]
  },
  {
   "cell_type": "code",
   "execution_count": 58,
   "id": "854705b5",
   "metadata": {},
   "outputs": [
    {
     "name": "stdout",
     "output_type": "stream",
     "text": [
      "Mean Squared Error: 8.452017137429469e-33\n"
     ]
    }
   ],
   "source": [
    "# Evaluate the model\n",
    "mse = mean_squared_error(y_test, y_pred)\n",
    "print('Mean Squared Error:', mse)"
   ]
  },
  {
   "cell_type": "code",
   "execution_count": 59,
   "id": "1c549a4d",
   "metadata": {},
   "outputs": [],
   "source": [
    "from sklearn.metrics import mean_absolute_error\n"
   ]
  },
  {
   "cell_type": "code",
   "execution_count": 60,
   "id": "6e68ce6e",
   "metadata": {},
   "outputs": [],
   "source": [
    "# Calculate MAE\n",
    "mae = mean_absolute_error(y_test, y_pred)"
   ]
  },
  {
   "cell_type": "code",
   "execution_count": 61,
   "id": "10015e1b",
   "metadata": {},
   "outputs": [
    {
     "name": "stdout",
     "output_type": "stream",
     "text": [
      "Mean Absolute Error (MAE): 7.371215208133387e-17\n"
     ]
    }
   ],
   "source": [
    "print(\"Mean Absolute Error (MAE):\", mae)"
   ]
  },
  {
   "cell_type": "code",
   "execution_count": 62,
   "id": "e6211f1f",
   "metadata": {},
   "outputs": [],
   "source": [
    "from sklearn.metrics import r2_score"
   ]
  },
  {
   "cell_type": "code",
   "execution_count": 63,
   "id": "d3c0dfd2",
   "metadata": {},
   "outputs": [],
   "source": [
    "r2 = r2_score(y_test, y_pred)"
   ]
  },
  {
   "cell_type": "code",
   "execution_count": 64,
   "id": "33c520ea",
   "metadata": {},
   "outputs": [
    {
     "name": "stdout",
     "output_type": "stream",
     "text": [
      "R-squared: 1.0\n"
     ]
    }
   ],
   "source": [
    "print(\"R-squared:\", r2)"
   ]
  },
  {
   "cell_type": "markdown",
   "id": "dcae7acc",
   "metadata": {},
   "source": [
    "# Task 4.4 - Run a k-means (k=2) on the engagement & the experience score"
   ]
  },
  {
   "cell_type": "code",
   "execution_count": 66,
   "id": "15e71407",
   "metadata": {},
   "outputs": [],
   "source": [
    "from sklearn.cluster import KMeans"
   ]
  },
  {
   "cell_type": "code",
   "execution_count": 67,
   "id": "123fd9ae",
   "metadata": {},
   "outputs": [],
   "source": [
    "# Prepare the data for clustering\n",
    "data = df[['Engagement Score', 'Experience Score']]\n",
    "X = data.values"
   ]
  },
  {
   "cell_type": "code",
   "execution_count": 68,
   "id": "8e8d0974",
   "metadata": {},
   "outputs": [
    {
     "data": {
      "text/html": [
       "<style>#sk-container-id-4 {color: black;background-color: white;}#sk-container-id-4 pre{padding: 0;}#sk-container-id-4 div.sk-toggleable {background-color: white;}#sk-container-id-4 label.sk-toggleable__label {cursor: pointer;display: block;width: 100%;margin-bottom: 0;padding: 0.3em;box-sizing: border-box;text-align: center;}#sk-container-id-4 label.sk-toggleable__label-arrow:before {content: \"▸\";float: left;margin-right: 0.25em;color: #696969;}#sk-container-id-4 label.sk-toggleable__label-arrow:hover:before {color: black;}#sk-container-id-4 div.sk-estimator:hover label.sk-toggleable__label-arrow:before {color: black;}#sk-container-id-4 div.sk-toggleable__content {max-height: 0;max-width: 0;overflow: hidden;text-align: left;background-color: #f0f8ff;}#sk-container-id-4 div.sk-toggleable__content pre {margin: 0.2em;color: black;border-radius: 0.25em;background-color: #f0f8ff;}#sk-container-id-4 input.sk-toggleable__control:checked~div.sk-toggleable__content {max-height: 200px;max-width: 100%;overflow: auto;}#sk-container-id-4 input.sk-toggleable__control:checked~label.sk-toggleable__label-arrow:before {content: \"▾\";}#sk-container-id-4 div.sk-estimator input.sk-toggleable__control:checked~label.sk-toggleable__label {background-color: #d4ebff;}#sk-container-id-4 div.sk-label input.sk-toggleable__control:checked~label.sk-toggleable__label {background-color: #d4ebff;}#sk-container-id-4 input.sk-hidden--visually {border: 0;clip: rect(1px 1px 1px 1px);clip: rect(1px, 1px, 1px, 1px);height: 1px;margin: -1px;overflow: hidden;padding: 0;position: absolute;width: 1px;}#sk-container-id-4 div.sk-estimator {font-family: monospace;background-color: #f0f8ff;border: 1px dotted black;border-radius: 0.25em;box-sizing: border-box;margin-bottom: 0.5em;}#sk-container-id-4 div.sk-estimator:hover {background-color: #d4ebff;}#sk-container-id-4 div.sk-parallel-item::after {content: \"\";width: 100%;border-bottom: 1px solid gray;flex-grow: 1;}#sk-container-id-4 div.sk-label:hover label.sk-toggleable__label {background-color: #d4ebff;}#sk-container-id-4 div.sk-serial::before {content: \"\";position: absolute;border-left: 1px solid gray;box-sizing: border-box;top: 0;bottom: 0;left: 50%;z-index: 0;}#sk-container-id-4 div.sk-serial {display: flex;flex-direction: column;align-items: center;background-color: white;padding-right: 0.2em;padding-left: 0.2em;position: relative;}#sk-container-id-4 div.sk-item {position: relative;z-index: 1;}#sk-container-id-4 div.sk-parallel {display: flex;align-items: stretch;justify-content: center;background-color: white;position: relative;}#sk-container-id-4 div.sk-item::before, #sk-container-id-4 div.sk-parallel-item::before {content: \"\";position: absolute;border-left: 1px solid gray;box-sizing: border-box;top: 0;bottom: 0;left: 50%;z-index: -1;}#sk-container-id-4 div.sk-parallel-item {display: flex;flex-direction: column;z-index: 1;position: relative;background-color: white;}#sk-container-id-4 div.sk-parallel-item:first-child::after {align-self: flex-end;width: 50%;}#sk-container-id-4 div.sk-parallel-item:last-child::after {align-self: flex-start;width: 50%;}#sk-container-id-4 div.sk-parallel-item:only-child::after {width: 0;}#sk-container-id-4 div.sk-dashed-wrapped {border: 1px dashed gray;margin: 0 0.4em 0.5em 0.4em;box-sizing: border-box;padding-bottom: 0.4em;background-color: white;}#sk-container-id-4 div.sk-label label {font-family: monospace;font-weight: bold;display: inline-block;line-height: 1.2em;}#sk-container-id-4 div.sk-label-container {text-align: center;}#sk-container-id-4 div.sk-container {/* jupyter's `normalize.less` sets `[hidden] { display: none; }` but bootstrap.min.css set `[hidden] { display: none !important; }` so we also need the `!important` here to be able to override the default hidden behavior on the sphinx rendered scikit-learn.org. See: https://github.com/scikit-learn/scikit-learn/issues/21755 */display: inline-block !important;position: relative;}#sk-container-id-4 div.sk-text-repr-fallback {display: none;}</style><div id=\"sk-container-id-4\" class=\"sk-top-container\"><div class=\"sk-text-repr-fallback\"><pre>KMeans(n_clusters=2, random_state=42)</pre><b>In a Jupyter environment, please rerun this cell to show the HTML representation or trust the notebook. <br />On GitHub, the HTML representation is unable to render, please try loading this page with nbviewer.org.</b></div><div class=\"sk-container\" hidden><div class=\"sk-item\"><div class=\"sk-estimator sk-toggleable\"><input class=\"sk-toggleable__control sk-hidden--visually\" id=\"sk-estimator-id-4\" type=\"checkbox\" checked><label for=\"sk-estimator-id-4\" class=\"sk-toggleable__label sk-toggleable__label-arrow\">KMeans</label><div class=\"sk-toggleable__content\"><pre>KMeans(n_clusters=2, random_state=42)</pre></div></div></div></div></div>"
      ],
      "text/plain": [
       "KMeans(n_clusters=2, random_state=42)"
      ]
     },
     "execution_count": 68,
     "metadata": {},
     "output_type": "execute_result"
    }
   ],
   "source": [
    "# Run K-means clustering\n",
    "k = 2\n",
    "kmeans = KMeans(n_clusters=k, random_state=42)\n",
    "kmeans.fit(X)\n"
   ]
  },
  {
   "cell_type": "code",
   "execution_count": 69,
   "id": "3509968a",
   "metadata": {},
   "outputs": [],
   "source": [
    "# Get the cluster labels\n",
    "cluster_labels = kmeans.labels_"
   ]
  },
  {
   "cell_type": "code",
   "execution_count": 70,
   "id": "e6a9bdcc",
   "metadata": {},
   "outputs": [
    {
     "data": {
      "image/png": "[encoded data removed]",
      "text/plain": [
       "<Figure size 640x480 with 1 Axes>"
      ]
     },
     "metadata": {},
     "output_type": "display_data"
    }
   ],
   "source": [
    "# Plot the clusters\n",
    "plt.scatter(X[:, 0], X[:, 1], c=cluster_labels, cmap='viridis')\n",
    "plt.xlabel('Engagement Score')\n",
    "plt.ylabel('Experience Score')\n",
    "plt.title('K-means Clustering (k=2) on Engagement & Experience Scores')\n",
    "plt.show()"
   ]
  },
  {
   "cell_type": "markdown",
   "id": "0e832a4a",
   "metadata": {},
   "source": [
    "# Task 4.5 - Aggregate the average satisfaction & experience score per cluster. "
   ]
  },
  {
   "cell_type": "code",
   "execution_count": 72,
   "id": "09876125",
   "metadata": {},
   "outputs": [],
   "source": [
    "# Create a new DataFrame with cluster labels and satisfaction/experience scores\n",
    "cluster_data = pd.DataFrame({'Cluster': cluster_labels, 'Satisfaction Score': df['Satisfaction Score'], 'Experience Score': df['Experience Score']})\n",
    "\n"
   ]
  },
  {
   "cell_type": "code",
   "execution_count": 73,
   "id": "b26c671e",
   "metadata": {},
   "outputs": [],
   "source": [
    "# Calculate the average satisfaction and experience score per cluster\n",
    "cluster_agg = cluster_data.groupby('Cluster').mean()\n",
    "\n"
   ]
  },
  {
   "cell_type": "code",
   "execution_count": 74,
   "id": "ee1c008a",
   "metadata": {},
   "outputs": [
    {
     "data": {
      "text/html": [
       "<div>\n",
       "<style scoped>\n",
       "    .dataframe tbody tr th:only-of-type {\n",
       "        vertical-align: middle;\n",
       "    }\n",
       "\n",
       "    .dataframe tbody tr th {\n",
       "        vertical-align: top;\n",
       "    }\n",
       "\n",
       "    .dataframe thead th {\n",
       "        text-align: right;\n",
       "    }\n",
       "</style>\n",
       "<table border=\"1\" class=\"dataframe\">\n",
       "  <thead>\n",
       "    <tr style=\"text-align: right;\">\n",
       "      <th></th>\n",
       "      <th>Satisfaction Score</th>\n",
       "      <th>Experience Score</th>\n",
       "    </tr>\n",
       "    <tr>\n",
       "      <th>Cluster</th>\n",
       "      <th></th>\n",
       "      <th></th>\n",
       "    </tr>\n",
       "  </thead>\n",
       "  <tbody>\n",
       "    <tr>\n",
       "      <th>0</th>\n",
       "      <td>0.103143</td>\n",
       "      <td>0.185041</td>\n",
       "    </tr>\n",
       "    <tr>\n",
       "      <th>1</th>\n",
       "      <td>0.052295</td>\n",
       "      <td>0.070967</td>\n",
       "    </tr>\n",
       "  </tbody>\n",
       "</table>\n",
       "</div>"
      ],
      "text/plain": [
       "         Satisfaction Score  Experience Score\n",
       "Cluster                                      \n",
       "0                  0.103143          0.185041\n",
       "1                  0.052295          0.070967"
      ]
     },
     "execution_count": 74,
     "metadata": {},
     "output_type": "execute_result"
    }
   ],
   "source": [
    "cluster_agg"
   ]
  },
  {
   "cell_type": "code",
   "execution_count": 75,
   "id": "79cabe7f",
   "metadata": {},
   "outputs": [
    {
     "data": {
      "text/plain": [
       "Index(['Satisfaction Score', 'Experience Score'], dtype='object')"
      ]
     },
     "execution_count": 75,
     "metadata": {},
     "output_type": "execute_result"
    }
   ],
   "source": [
    "cluster_agg.columns"
   ]
  },
  {
   "cell_type": "markdown",
   "id": "93164d68",
   "metadata": {},
   "source": [
    "These scores provide an overview of the average satisfaction and experience levels within each cluster. Cluster 0 has higher average scores compared to Cluster 1, indicating potentially higher satisfaction and better experiences for customers in Cluster 1."
   ]
  },
  {
   "cell_type": "code",
   "execution_count": 76,
   "id": "d47f1ebb",
   "metadata": {},
   "outputs": [
    {
     "data": {
      "image/png": "[encoded data removed]",
      "text/plain": [
       "<Figure size 800x600 with 1 Axes>"
      ]
     },
     "metadata": {},
     "output_type": "display_data"
    },
    {
     "data": {
      "image/png": "[encoded data removed]",
      "text/plain": [
       "<Figure size 800x600 with 1 Axes>"
      ]
     },
     "metadata": {},
     "output_type": "display_data"
    }
   ],
   "source": [
    "# Define the cluster labels and average scores\n",
    "cluster_labels = ['Cluster 0', 'Cluster 1']\n",
    "avg_satisfaction_scores = cluster_agg['Satisfaction Score']\n",
    "avg_experience_scores =cluster_agg['Experience Score']\n",
    "\n",
    "# Plot the average satisfaction scores\n",
    "plt.figure(figsize=(8, 6))\n",
    "plt.bar(cluster_labels, avg_satisfaction_scores, color='blue')\n",
    "plt.xlabel('Cluster')\n",
    "plt.ylabel('Average Satisfaction Score')\n",
    "plt.title('Average Satisfaction Score per Cluster')\n",
    "\n",
    "# Display the plot\n",
    "plt.show()\n",
    "\n",
    "# Plot the average experience scores\n",
    "plt.figure(figsize=(8, 6))\n",
    "plt.bar(cluster_labels, avg_experience_scores, color='green')\n",
    "plt.xlabel('Cluster')\n",
    "plt.ylabel('Average Experience Score')\n",
    "plt.title('Average Experience Score per Cluster')\n",
    "\n",
    "# Display the plot\n",
    "plt.show()"
   ]
  },
  {
   "cell_type": "code",
   "execution_count": 77,
   "id": "331faae7",
   "metadata": {},
   "outputs": [
    {
     "data": {
      "text/html": [
       "<div>\n",
       "<style scoped>\n",
       "    .dataframe tbody tr th:only-of-type {\n",
       "        vertical-align: middle;\n",
       "    }\n",
       "\n",
       "    .dataframe tbody tr th {\n",
       "        vertical-align: top;\n",
       "    }\n",
       "\n",
       "    .dataframe thead th {\n",
       "        text-align: right;\n",
       "    }\n",
       "</style>\n",
       "<table border=\"1\" class=\"dataframe\">\n",
       "  <thead>\n",
       "    <tr style=\"text-align: right;\">\n",
       "      <th></th>\n",
       "      <th>MSISDN/Number</th>\n",
       "      <th>Engagement Score</th>\n",
       "      <th>Experience Score</th>\n",
       "      <th>Satisfaction Score</th>\n",
       "    </tr>\n",
       "  </thead>\n",
       "  <tbody>\n",
       "    <tr>\n",
       "      <th>0</th>\n",
       "      <td>3.360100e+10</td>\n",
       "      <td>0.023262</td>\n",
       "      <td>0.191190</td>\n",
       "      <td>0.107226</td>\n",
       "    </tr>\n",
       "    <tr>\n",
       "      <th>1</th>\n",
       "      <td>3.360100e+10</td>\n",
       "      <td>0.025866</td>\n",
       "      <td>0.191111</td>\n",
       "      <td>0.108489</td>\n",
       "    </tr>\n",
       "    <tr>\n",
       "      <th>2</th>\n",
       "      <td>3.360100e+10</td>\n",
       "      <td>0.003462</td>\n",
       "      <td>0.191117</td>\n",
       "      <td>0.097289</td>\n",
       "    </tr>\n",
       "    <tr>\n",
       "      <th>3</th>\n",
       "      <td>3.360101e+10</td>\n",
       "      <td>0.007417</td>\n",
       "      <td>0.190661</td>\n",
       "      <td>0.099039</td>\n",
       "    </tr>\n",
       "    <tr>\n",
       "      <th>4</th>\n",
       "      <td>3.360101e+10</td>\n",
       "      <td>0.064264</td>\n",
       "      <td>0.093116</td>\n",
       "      <td>0.078690</td>\n",
       "    </tr>\n",
       "    <tr>\n",
       "      <th>...</th>\n",
       "      <td>...</td>\n",
       "      <td>...</td>\n",
       "      <td>...</td>\n",
       "      <td>...</td>\n",
       "    </tr>\n",
       "    <tr>\n",
       "      <th>106851</th>\n",
       "      <td>3.379000e+10</td>\n",
       "      <td>0.012225</td>\n",
       "      <td>0.155648</td>\n",
       "      <td>0.083937</td>\n",
       "    </tr>\n",
       "    <tr>\n",
       "      <th>106852</th>\n",
       "      <td>3.379000e+10</td>\n",
       "      <td>0.003158</td>\n",
       "      <td>0.191052</td>\n",
       "      <td>0.097105</td>\n",
       "    </tr>\n",
       "    <tr>\n",
       "      <th>106853</th>\n",
       "      <td>3.197020e+12</td>\n",
       "      <td>0.032340</td>\n",
       "      <td>0.191449</td>\n",
       "      <td>0.111895</td>\n",
       "    </tr>\n",
       "    <tr>\n",
       "      <th>106854</th>\n",
       "      <td>3.370000e+14</td>\n",
       "      <td>0.005386</td>\n",
       "      <td>0.191339</td>\n",
       "      <td>0.098362</td>\n",
       "    </tr>\n",
       "    <tr>\n",
       "      <th>106855</th>\n",
       "      <td>8.823970e+14</td>\n",
       "      <td>0.036717</td>\n",
       "      <td>0.191446</td>\n",
       "      <td>0.114081</td>\n",
       "    </tr>\n",
       "  </tbody>\n",
       "</table>\n",
       "<p>106856 rows × 4 columns</p>\n",
       "</div>"
      ],
      "text/plain": [
       "        MSISDN/Number  Engagement Score  Experience Score  Satisfaction Score\n",
       "0        3.360100e+10          0.023262          0.191190            0.107226\n",
       "1        3.360100e+10          0.025866          0.191111            0.108489\n",
       "2        3.360100e+10          0.003462          0.191117            0.097289\n",
       "3        3.360101e+10          0.007417          0.190661            0.099039\n",
       "4        3.360101e+10          0.064264          0.093116            0.078690\n",
       "...               ...               ...               ...                 ...\n",
       "106851   3.379000e+10          0.012225          0.155648            0.083937\n",
       "106852   3.379000e+10          0.003158          0.191052            0.097105\n",
       "106853   3.197020e+12          0.032340          0.191449            0.111895\n",
       "106854   3.370000e+14          0.005386          0.191339            0.098362\n",
       "106855   8.823970e+14          0.036717          0.191446            0.114081\n",
       "\n",
       "[106856 rows x 4 columns]"
      ]
     },
     "execution_count": 77,
     "metadata": {},
     "output_type": "execute_result"
    }
   ],
   "source": [
    "df"
   ]
  },
  {
   "cell_type": "code",
   "execution_count": 78,
   "id": "f012a045",
   "metadata": {},
   "outputs": [],
   "source": [
    "df.to_csv('Final_Table.csv')"
   ]
  },
  {
   "cell_type": "code",
   "execution_count": 79,
   "id": "9316f0b3",
   "metadata": {},
   "outputs": [],
   "source": [
    "excel_file_path = \"output.xlsx\""
   ]
  },
  {
   "cell_type": "code",
   "execution_count": 80,
   "id": "bd3c5e1e",
   "metadata": {},
   "outputs": [],
   "source": [
    "df.to_excel(excel_file_path, index=False)"
   ]
  },
  {
   "cell_type": "code",
   "execution_count": 81,
   "id": "48ec63a5",
   "metadata": {},
   "outputs": [
    {
     "name": "stdout",
     "output_type": "stream",
     "text": [
      "Defaulting to user installation because normal site-packages is not writeable\n",
      "Requirement already satisfied: pyodbc in d:\\programdata\\anaconda3\\lib\\site-packages (4.0.34)\n"
     ]
    }
   ],
   "source": [
    "!pip install pyodbc"
   ]
  },
  {
   "cell_type": "code",
   "execution_count": 82,
   "id": "123c008e",
   "metadata": {},
   "outputs": [],
   "source": [
    "import pyodbc"
   ]
  },
  {
   "cell_type": "code",
   "execution_count": 83,
   "id": "848939b0",
   "metadata": {},
   "outputs": [
    {
     "data": {
      "text/plain": [
       "['SQL Server',\n",
       " 'SQL Server Native Client RDA 11.0',\n",
       " 'ODBC Driver 17 for SQL Server']"
      ]
     },
     "execution_count": 83,
     "metadata": {},
     "output_type": "execute_result"
    }
   ],
   "source": [
    "pyodbc.drivers()"
   ]
  },
  {
   "cell_type": "code",
   "execution_count": null,
   "id": "9978aca6",
   "metadata": {},
   "outputs": [],
   "source": [
    "# Establish a connection to the SQL Server database\n",
    "conn = pyodbc.connect(\n",
    "    Trusted_Connection='Yes',\n",
    "    Driver='{ODBC Driver 17 for SQL Server}',\n",
    "    Server='MANILA',\n",
    "    Database='Final_table'\n",
    ")\n"
   ]
  },
  {
   "cell_type": "code",
   "execution_count": null,
   "id": "fca8b48d",
   "metadata": {},
   "outputs": [],
   "source": [
    "# SQL query to fetch data from a table\n",
    "query = 'SELECT * FROM df'\n",
    "\n",
    "# Execute the query and fetch the data into a DataFrame\n",
    "df = pd.read_sql(query, conn)"
   ]
  },
  {
   "cell_type": "code",
   "execution_count": null,
   "id": "1d8d3003",
   "metadata": {},
   "outputs": [],
   "source": []
  }
 ],
 "metadata": {
  "kernelspec": {
   "display_name": "Python 3 (ipykernel)",
   "language": "python",
   "name": "python3"
  },
  "language_info": {
   "codemirror_mode": {
    "name": "ipython",
    "version": 3
   },
   "file_extension": ".py",
   "mimetype": "text/x-python",
   "name": "python",
   "nbconvert_exporter": "python",
   "pygments_lexer": "ipython3",
   "version": "3.10.9"
  }
 },
 "nbformat": 4,
 "nbformat_minor": 5
}
